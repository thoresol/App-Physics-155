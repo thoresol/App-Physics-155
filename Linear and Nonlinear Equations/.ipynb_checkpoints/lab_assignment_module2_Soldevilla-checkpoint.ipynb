{
 "cells": [
  {
   "cell_type": "markdown",
   "metadata": {
    "id": "G0BcK0H_G1Iu"
   },
   "source": [
    "# **AP155 Lab Assignment**\n",
    "## Module 2: Solution of Linear and Nonlinear Equations\n",
    "\n",
    "_Instructions_: Answer each problem as completely as you can. Discuss **all** your answers as clearly and concisely as possible.\n",
    "\n",
    "_Scoring Criteria_: 50% - *correctness of code*; 50% - *discussion of the code and results*. Maximum score is **100 points**.\n",
    "\n"
   ]
  },
  {
   "cell_type": "markdown",
   "metadata": {
    "id": "PeHZ9kP8JaVR"
   },
   "source": [
    "### Student Information\n",
    "\n",
    "_Full Name (Last Name, First Name)_: Thoreenz Soldevilla\\\n",
    "_Student No._: 2021-04225\\\n",
    "_Section_: THQ-HX-1"
   ]
  },
  {
   "cell_type": "markdown",
   "metadata": {
    "id": "Hc183co-J4eI"
   },
   "source": [
    "### Submission Information\n",
    "\n",
    "_Date and Time Submitted (most recent upload)_: 9/11/23, 3:14 PM\n",
    "\n",
    "**HONOR PLEDGE** I affirm that I have upheld the highest principles of honesty and integrity in my academic work and that this lab assignment is my own work.\n",
    "\n",
    "**Sign here with your full name:** Thoreenz Soldeviila"
   ]
  },
  {
   "cell_type": "markdown",
   "metadata": {
    "id": "4LUwfsfMBmvd"
   },
   "source": [
    "### Grading Information (c/o Lab Instructor)\n",
    "\n",
    "TOTAL SCORE: **XX**/100\n",
    "\n",
    "Score breakdown:\n",
    "* Problem 1 - XX/30\n",
    "* Problem 2 - XX/30\n",
    "* Problem 3 - XX/40\n",
    "\n"
   ]
  },
  {
   "cell_type": "code",
   "execution_count": 43,
   "metadata": {},
   "outputs": [],
   "source": [
    "import numpy as np"
   ]
  },
  {
   "cell_type": "markdown",
   "metadata": {
    "id": "kBX9EyMLOnXj"
   },
   "source": [
    "### PROBLEM 1\n",
    "\n",
    "**Solve for eigenvalues and eigenvectors of a symmetric matrix**\n",
    "\n",
    "1. Use numpy's $\\tt linalg$ package to find the eigenvalues and eigenvectors of the ff. symmetrix matrix *(15 pts.)*:\n",
    "\n",
    "$ \\begin{equation}\n",
    "{\\bf A} =\n",
    "\\begin{pmatrix}\n",
    "8 & -2 & -20 \\\\\n",
    "-2 & -3 & -9 \\\\\n",
    "-20 & -9 & -3\n",
    "\\end{pmatrix} \\end{equation} $\n",
    "\n",
    "2. Check your answer numerically; that is, check that $\\bf AV = VD$, where the $N$ x $N$ matrix $\\bf V$ has the eigenvectors as its columns and $\\bf D$ is the diagonal matrix with the eigenvalues $\\lambda_i$ as its diagonal entries. *(15 pts.)*"
   ]
  },
  {
   "cell_type": "markdown",
   "metadata": {},
   "source": [
    "Finding the eigenvalues and eigenvectors follow the equation:\n",
    "$$\n",
    "\\begin{equation}\n",
    "Ax = \\lambda{}x\n",
    "\\end{equation}\n",
    "$$\n",
    "where $\\lambda{}$ represents the eigenvalues of the matrix.\n",
    "\n",
    "We define $\\tt A1$ as a numpy array where the elements are composed of the matrix rows. We then calculate the eigenvalues $\\tt x1$ and the vectors $\\tt V1$ using the $\\tt eigh()$ function in $\\tt linalg$."
   ]
  },
  {
   "cell_type": "code",
   "execution_count": 44,
   "metadata": {
    "id": "GABjwlXCR97i"
   },
   "outputs": [
    {
     "name": "stdout",
     "output_type": "stream",
     "text": [
      "The eigenvalues are: [-21.99606195   0.16021522  23.83584674]\n",
      "The eigenvectors are: [[ 0.52496527  0.36793396 -0.76748685]\n",
      " [ 0.40892672 -0.89987151 -0.15169114]\n",
      " [ 0.74645187  0.2342133   0.62285932]]\n"
     ]
    }
   ],
   "source": [
    "#We define A with the variable A1.\n",
    "A1 = np.array([\n",
    "    [8, -2, -20],\n",
    "    [-2, -3, -9],\n",
    "    [-20, -9, -3]\n",
    "], float)\n",
    "# We get the eigenvalues and eigenvectors.\n",
    "x1, V1 = np.linalg.eigh(A1)\n",
    "print(\"The eigenvalues are:\",x1)\n",
    "print(\"The eigenvectors are:\",V1)"
   ]
  },
  {
   "cell_type": "markdown",
   "metadata": {},
   "source": [
    "We then prove that the matrix A1 is symmetric by multiplying $\\tt A1$ to the $\\tt V1$ and equate it with $\\tt V1$ multiplied by $\\tt D1$. We use the $\\tt matmul()$ method found ni numpy."
   ]
  },
  {
   "cell_type": "code",
   "execution_count": 45,
   "metadata": {},
   "outputs": [
    {
     "name": "stdout",
     "output_type": "stream",
     "text": [
      "A1*V1 =  [[-11.54716868   0.05894862 -18.29369893]\n",
      " [ -8.99477756  -0.14417311  -3.61568676]\n",
      " [-16.4190016    0.03752454  14.8463793 ]]\n",
      "V1*D1 =  [[-11.54716868   0.05894862 -18.29369893]\n",
      " [ -8.99477756  -0.14417311  -3.61568676]\n",
      " [-16.4190016    0.03752454  14.8463793 ]]\n"
     ]
    }
   ],
   "source": [
    "D1 = np.array([\n",
    "    [x1[0], 0, 0],\n",
    "    [0, x1[1], 0],\n",
    "    [0, 0, x1[2]]\n",
    "])\n",
    "print(\"A1*V1 = \", np.matmul(A1, V1))\n",
    "print(\"V1*D1 = \", np.matmul(V1, D1))"
   ]
  },
  {
   "cell_type": "markdown",
   "metadata": {},
   "source": [
    "We see in the output that both the left-hand side and the right-hand side produce the same matrix."
   ]
  },
  {
   "cell_type": "markdown",
   "metadata": {
    "id": "HceOjNu-VfN9"
   },
   "source": [
    "### PROBLEM 2\n",
    "\n",
    "**Solve a nonlinear equation using the relaxation method**\n",
    "\n",
    "Consider the equation $x=1- e^{-cx}$, where $c$ is a known parameter and $x$ is unknown. This equation arises in a variety of situations, including the physics of contact processes, mathematical models of epidemics, and the theory of random graphs.\n",
    "\n",
    "1. Write a program to solve this equation for $x$ using the relaxation method for the case $c = 2$. Calculate your solution to an accuracy of at least $10^{-6}$. *(10 pts.)*\n",
    "\n",
    "2. Modify your program to calculate the solution for values of $c$ from 0 to 3 in steps of 0.01. *(10 pts.)*\n",
    "\n",
    "3. Make a plot of $x$ as a function of $c$. Describe the different regimes that you see. *(10 pts.)*"
   ]
  },
  {
   "cell_type": "markdown",
   "metadata": {},
   "source": [
    "The relaxation method is implemented by solving the function using an initial value and substituting the new value to the equation. It is defined by the following: \n",
    "$$ x_{i} = f(x_{i-1})$$\n",
    "Where $x_{i-1}$ is the value from the previous iteration."
   ]
  },
  {
   "cell_type": "code",
   "execution_count": 46,
   "metadata": {
    "id": "p28JF-OQYock"
   },
   "outputs": [],
   "source": [
    "# Since the function requires an exponential function, we import it using the math module. We then define the \n",
    "# function as f2, taking arguments to supply c and x.\n",
    "from math import exp\n",
    "def f2(c, x):\n",
    "    return 1 - exp(-c*x) "
   ]
  },
  {
   "cell_type": "markdown",
   "metadata": {},
   "source": [
    "The problem then asks for the accuracy of the solution to $10^{-6}$. We implement this by finding the value difference, $\\tt x diff$, by finding the difference of the current and previous solution to the function."
   ]
  },
  {
   "cell_type": "code",
   "execution_count": 47,
   "metadata": {},
   "outputs": [
    {
     "name": "stdout",
     "output_type": "stream",
     "text": [
      "Iteration 1: 0.8646647167633873\n",
      "Value Difference: 0.8646647167633873\n",
      "Iteration 2: 0.8225966691808597\n",
      "Value Difference: 0.04206804758252758\n",
      "Iteration 3: 0.8070247503317746\n",
      "Value Difference: 0.015571918849085153\n",
      "Iteration 4: 0.8009201942366403\n",
      "Value Difference: 0.0061045560951342726\n",
      "Iteration 5: 0.7984747083247583\n",
      "Value Difference: 0.002445485911881984\n",
      "Iteration 6: 0.7974866394625985\n",
      "Value Difference: 0.0009880688621598521\n",
      "Iteration 7: 0.797086049491047\n",
      "Value Difference: 0.00040058997155145715\n",
      "Iteration 8: 0.796923413762181\n",
      "Value Difference: 0.00016263572886598965\n",
      "Iteration 9: 0.7968573480008734\n",
      "Value Difference: 6.606576130763209e-05\n",
      "Iteration 10: 0.7968305046795713\n",
      "Value Difference: 2.6843321302094658e-05\n",
      "Iteration 11: 0.7968195968986895\n",
      "Value Difference: 1.0907780881752593e-05\n",
      "Iteration 12: 0.7968151643557075\n",
      "Value Difference: 4.432542981991361e-06\n"
     ]
    },
    {
     "data": {
      "image/png": "[encoded data removed]",
      "text/latex": [
       "$\\displaystyle 0.7968151643557075$"
      ],
      "text/plain": [
       "0.7968151643557075"
      ]
     },
     "execution_count": 47,
     "metadata": {},
     "output_type": "execute_result"
    }
   ],
   "source": [
    "# We converge the function to a solution accurate to 10e-6.\n",
    "def relx_while(f, c, x):\n",
    "    x_diff = 1.0 # initial solution difference\n",
    "    x_store = 0.0 # where we store the previous solution\n",
    "    iteration = 0 # variable that counts the iterations\n",
    "    # We implement a conditional that stops the iteration when it reaches the target accuracy.\n",
    "    while x_diff >= 10e-6: \n",
    "        x = f(c, x)\n",
    "        iteration += 1\n",
    "        print(\"Iteration {}:\".format(iteration),x)\n",
    "        # We find the solution difference\n",
    "        x_diff = abs(x_store-x)\n",
    "        print(\"Value Difference:\", x_diff)\n",
    "        x_store = x\n",
    "    return x\n",
    "relx_while(f2, 2.0, 1.0)"
   ]
  },
  {
   "cell_type": "markdown",
   "metadata": {},
   "source": [
    "We find that the answer to the equation with $c = 2$ is roughly equal to **0.797**.\n",
    "\n",
    "We then model the equation from $c=0$ to $c=3$ with a step of 0.01. We get the number of steps by dividing the upper bound of the x-axis with the step. Hence, the number of steps required is $\\frac{3}{0.001}=300$ steps."
   ]
  },
  {
   "cell_type": "code",
   "execution_count": 48,
   "metadata": {},
   "outputs": [],
   "source": [
    "# We define the x-points using the linspace() module, from 0 to 3 with 300 steps.\n",
    "x2_data = np.linspace(0, 3, 300)\n",
    "# We will append the solutions from each x-point to the y2_data array.\n",
    "y2_data = []\n",
    "def relx_while_mute(f, c, x):\n",
    "    x_diff = 1.0\n",
    "    x_store = 0.0\n",
    "    iteration = 0\n",
    "    while x_diff >= 10e-6:\n",
    "        x = f(c, x)\n",
    "        iteration += 1\n",
    "        x_diff = abs(x_store-x)\n",
    "        x_store = x\n",
    "    return x\n",
    "# We implement the solutions and append it to the designated y-axis array.\n",
    "for k in range(300):\n",
    "    y2_data.append(relx_while_mute(f2, x2_data[k], 1.0))"
   ]
  },
  {
   "cell_type": "code",
   "execution_count": 49,
   "metadata": {},
   "outputs": [
    {
     "data": {
      "text/plain": [
       "<function matplotlib.pyplot.show(*args, **kw)>"
      ]
     },
     "execution_count": 49,
     "metadata": {},
     "output_type": "execute_result"
    },
    {
     "data": {
      "image/png": "[encoded data removed]",
      "text/plain": [
       "<Figure size 432x288 with 1 Axes>"
      ]
     },
     "metadata": {
      "needs_background": "light"
     },
     "output_type": "display_data"
    }
   ],
   "source": [
    "from matplotlib import pyplot as plt\n",
    "plt.plot(x2_data, y2_data, marker=\".\")\n",
    "plt.show"
   ]
  },
  {
   "cell_type": "markdown",
   "metadata": {},
   "source": [
    "We see here that as we define $c$ from 0 to 1, the model is flat. It logarithmically increases until 2.0 and starts to asymptotically flatten onwards.\n",
    "\n",
    "The sudden phase shift shown in the graph is shown as a percolation transition. This means that as described in the equation, the process must have a $c$ of 1.0 for a process to undergo a phase transition. In the case of epidemics, a $c$ of greater than or equal to 1 would be sufficient for an epidemic to occur."
   ]
  },
  {
   "cell_type": "markdown",
   "metadata": {
    "id": "BY5x-mZsYoqG"
   },
   "source": [
    "### PROBLEM 3\n",
    "\n",
    "**Physics Application: Calculating the Lagrange point**\n",
    "\n",
    "_Refer to Exercise 6.16 of the Newman text._ The $L_1$ Lagrange point is the point between the Earth and the Moon at which a satellite will orbit the Earth in perfect synchrony with the Moon, staying always in between the two.\n",
    "\n",
    "Assuming circular orbits, and assuming that the Earth is much more massive than either the Moon or the satellite, the distance $r$ from the center of the Earth to the $L_1$ point satisfies\n",
    "$$ \\begin{equation}\n",
    "\\frac{GM}{r^2} - \\frac{Gm}{(R-r)^2} = \\omega^2 r,\n",
    "\\end{equation} $$\n",
    "where $R$ is the distance from the Earth to the Moon, $M$ and $m$ are the Earth and Moon masses, $G$ is Newton's gravitational constant, and $\\omega$ is the angular velocity of both the Moon and the satellite."
   ]
  },
  {
   "cell_type": "markdown",
   "metadata": {
    "id": "LlDDXIZ46CKU"
   },
   "source": [
    "Use Newton's method to solve for the distance r from the Earth to the $L_1$ point. Compute a solution accurate to at least four significant figures."
   ]
  },
  {
   "cell_type": "markdown",
   "metadata": {},
   "source": [
    "We convert the equation into an iterable function of r on the right-hand side by equating the right-hand side by 0, resulting into:"
   ]
  },
  {
   "cell_type": "markdown",
   "metadata": {},
   "source": [
    "$$ \\begin{equation}\n",
    "f(r) = G(\\frac{M}{r^2} - \\frac{m}{(R-r)^2}) - \\omega^{2}r\n",
    "\\end{equation} $$"
   ]
  },
  {
   "cell_type": "code",
   "execution_count": 50,
   "metadata": {
    "id": "Jiu5YAx6aMmq"
   },
   "outputs": [],
   "source": [
    "# We define the function with their respective constants:\n",
    "def f3(x):\n",
    "    G = 6.674e-11\n",
    "    w = 2.662e-6\n",
    "    M = 5.9724e24\n",
    "    m = 7.348e22\n",
    "    R = 3.844e8\n",
    "    return G*((M/(x**2))-(m/((R-x)**2))) - w**2*x"
   ]
  },
  {
   "cell_type": "markdown",
   "metadata": {},
   "source": [
    "We use the Newton's method to guess the root of the equation. This is defined as:\n",
    "$$ x_i = x_{i-1} - \\frac{f(x_{i-1})}{f'(x_{i-1})}$$\n",
    "Where $x_i$ is the new guess for the root, and $x_{i-1}$ is a previous guess estimate. \n",
    "I used the $\\tt sympy$ module to be able to do differential calculus."
   ]
  },
  {
   "cell_type": "code",
   "execution_count": 51,
   "metadata": {},
   "outputs": [],
   "source": [
    "import sympy as sp\n",
    "# import the variables\n",
    "x, y, z = sp.symbols('x y z')\n",
    "sp.init_printing(use_unicode=True)"
   ]
  },
  {
   "cell_type": "code",
   "execution_count": 52,
   "metadata": {},
   "outputs": [],
   "source": [
    "# We then define the differential function that takes any math function and the value to be substituted.\n",
    "def diff_x(f, sub):\n",
    "    return sp.diff(f(x),x).evalf(subs={x:sub})"
   ]
  },
  {
   "cell_type": "code",
   "execution_count": 53,
   "metadata": {},
   "outputs": [],
   "source": [
    "# The Newton method takes x_1 as previous guess estimates. The tolerance acts as a conditional that would \n",
    "# stop the convergence of the algorithm to the root.\n",
    "def secant(f, x_1, tolerance):\n",
    "    epsilon = 1.0 # initialization of error\n",
    "    x_2 = 0\n",
    "    while epsilon >= tolerance:\n",
    "        # newton method definition\n",
    "        x_2 = x_1 - f(x_1)/diff_x(f, x_1)\n",
    "        epsilon = abs(x_2-x_1)\n",
    "        # We then substitute the values into the new guesses for the root.\n",
    "        x_1 = x_2\n",
    "        print(\"guess:\",x_2)\n",
    "        print(\"epsilon:\",epsilon)\n",
    "    return x_2"
   ]
  },
  {
   "cell_type": "code",
   "execution_count": 54,
   "metadata": {},
   "outputs": [
    {
     "name": "stdout",
     "output_type": "stream",
     "text": [
      "guess: 330505771.969731\n",
      "epsilon: 30505771.9697309\n",
      "guess: 326352126.000471\n",
      "epsilon: 4153645.96926033\n",
      "guess: 326033930.593022\n",
      "epsilon: 318195.407448888\n",
      "guess: 326032425.191375\n",
      "epsilon: 1505.40164613724\n",
      "guess: 326032425.158219\n",
      "epsilon: 0.0331563353538513\n",
      "guess: 326032425.158219\n",
      "epsilon: 0\n"
     ]
    },
    {
     "data": {
      "image/png": "[encoded data removed]",
      "text/latex": [
       "$\\displaystyle 326032425.158219$"
      ],
      "text/plain": [
       "326032425.158219"
      ]
     },
     "execution_count": 54,
     "metadata": {},
     "output_type": "execute_result"
    }
   ],
   "source": [
    "# Implementing the method\n",
    "secant(f3, 300e6, 10e-4)"
   ]
  },
  {
   "cell_type": "code",
   "execution_count": 55,
   "metadata": {},
   "outputs": [
    {
     "name": "stdout",
     "output_type": "stream",
     "text": [
      "guess: 277594458.571707\n",
      "epsilon: 77594458.5717074\n",
      "guess: 330560777.425955\n",
      "epsilon: 52966318.8542481\n",
      "guess: 326360361.280793\n",
      "epsilon: 4200416.14516211\n",
      "guess: 326034009.425184\n",
      "epsilon: 326351.855609775\n",
      "guess: 326032425.194939\n",
      "epsilon: 1584.23024469614\n",
      "guess: 326032425.158219\n",
      "epsilon: 0.0367197394371033\n",
      "guess: 326032425.158219\n",
      "epsilon: 0\n"
     ]
    },
    {
     "data": {
      "image/png": "[encoded data removed]",
      "text/latex": [
       "$\\displaystyle 326032425.158219$"
      ],
      "text/plain": [
       "326032425.158219"
      ]
     },
     "execution_count": 55,
     "metadata": {},
     "output_type": "execute_result"
    }
   ],
   "source": [
    "# We can choose another first guess for the root, and we still arrive at the same result.\n",
    "secant(f3, 200e6, 10e-4)"
   ]
  },
  {
   "cell_type": "markdown",
   "metadata": {},
   "source": [
    "We see that the $L_1$ of the Earth and Sun is equal to $3.260 * 10^8$ km."
   ]
  }
 ],
 "metadata": {
  "colab": {
   "provenance": []
  },
  "kernelspec": {
   "display_name": "Python 3",
   "language": "python",
   "name": "python3"
  },
  "language_info": {
   "codemirror_mode": {
    "name": "ipython",
    "version": 3
   },
   "file_extension": ".py",
   "mimetype": "text/x-python",
   "name": "python",
   "nbconvert_exporter": "python",
   "pygments_lexer": "ipython3",
   "version": "3.8.3"
  }
 },
 "nbformat": 4,
 "nbformat_minor": 1
}
