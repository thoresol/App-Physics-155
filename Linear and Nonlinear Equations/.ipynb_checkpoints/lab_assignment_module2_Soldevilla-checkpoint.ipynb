{
 "cells": [
  {
   "cell_type": "markdown",
   "metadata": {
    "id": "G0BcK0H_G1Iu"
   },
   "source": [
    "# **AP155 Lab Assignment**\n",
    "## Module 2: Solution of Linear and Nonlinear Equations\n",
    "\n",
    "_Instructions_: Answer each problem as completely as you can. Discuss **all** your answers as clearly and concisely as possible.\n",
    "\n",
    "_Scoring Criteria_: 50% - *correctness of code*; 50% - *discussion of the code and results*. Maximum score is **100 points**.\n",
    "\n"
   ]
  },
  {
   "cell_type": "markdown",
   "metadata": {
    "id": "PeHZ9kP8JaVR"
   },
   "source": [
    "### Student Information\n",
    "\n",
    "_Full Name (Last Name, First Name)_: Thoreenz Soldevilla\\\n",
    "_Student No._: 2021-04225\\\n",
    "_Section_: THQ-HX-1"
   ]
  },
  {
   "cell_type": "markdown",
   "metadata": {
    "id": "Hc183co-J4eI"
   },
   "source": [
    "### Submission Information\n",
    "\n",
    "_Date and Time Submitted (most recent upload)_:\n",
    "\n",
    "**HONOR PLEDGE** I affirm that I have upheld the highest principles of honesty and integrity in my academic work and that this lab assignment is my own work.\n",
    "\n",
    "**Sign here with your full name:** Thoreenz Soldeviila"
   ]
  },
  {
   "cell_type": "markdown",
   "metadata": {
    "id": "4LUwfsfMBmvd"
   },
   "source": [
    "### Grading Information (c/o Lab Instructor)\n",
    "\n",
    "TOTAL SCORE: **XX**/100\n",
    "\n",
    "Score breakdown:\n",
    "* Problem 1 - XX/30\n",
    "* Problem 2 - XX/30\n",
    "* Problem 3 - XX/40\n",
    "\n"
   ]
  },
  {
   "cell_type": "code",
   "execution_count": 1,
   "metadata": {},
   "outputs": [],
   "source": [
    "import numpy as np"
   ]
  },
  {
   "cell_type": "markdown",
   "metadata": {
    "id": "kBX9EyMLOnXj"
   },
   "source": [
    "### PROBLEM 1\n",
    "\n",
    "**Solve for eigenvalues and eigenvectors of a symmetric matrix**\n",
    "\n",
    "1. Use numpy's $\\tt linalg$ package to find the eigenvalues and eigenvectors of the ff. symmetrix matrix *(15 pts.)*:\n",
    "\n",
    "$ \\begin{equation}\n",
    "{\\bf A} =\n",
    "\\begin{pmatrix}\n",
    "8 & -2 & -20 \\\\\n",
    "-2 & -3 & -9 \\\\\n",
    "-20 & -9 & -3\n",
    "\\end{pmatrix} \\end{equation} $\n",
    "\n",
    "2. Check your answer numerically; that is, check that $\\bf AV = VD$, where the $N$ x $N$ matrix $\\bf V$ has the eigenvectors as its columns and $\\bf D$ is the diagonal matrix with the eigenvalues $\\lambda_i$ as its diagonal entries. *(15 pts.)*"
   ]
  },
  {
   "cell_type": "code",
   "execution_count": 2,
   "metadata": {
    "id": "GABjwlXCR97i"
   },
   "outputs": [
    {
     "name": "stdout",
     "output_type": "stream",
     "text": [
      "[-21.99606195   0.16021522  23.83584674]\n",
      "[[ 0.52496527  0.36793396 -0.76748685]\n",
      " [ 0.40892672 -0.89987151 -0.15169114]\n",
      " [ 0.74645187  0.2342133   0.62285932]]\n"
     ]
    }
   ],
   "source": [
    "A1 = np.array([\n",
    "    [8, -2, -20],\n",
    "    [-2, -3, -9],\n",
    "    [-20, -9, -3]\n",
    "], float)\n",
    "x1, V1 = np.linalg.eigh(A1)\n",
    "print(x1)\n",
    "print(V1)"
   ]
  },
  {
   "cell_type": "code",
   "execution_count": 3,
   "metadata": {},
   "outputs": [
    {
     "name": "stdout",
     "output_type": "stream",
     "text": [
      "[[-11.54716868   0.05894862 -18.29369893]\n",
      " [ -8.99477756  -0.14417311  -3.61568676]\n",
      " [-16.4190016    0.03752454  14.8463793 ]]\n",
      "[[-11.54716868   0.05894862 -18.29369893]\n",
      " [ -8.99477756  -0.14417311  -3.61568676]\n",
      " [-16.4190016    0.03752454  14.8463793 ]]\n"
     ]
    }
   ],
   "source": [
    "D1 = np.array([\n",
    "    [x1[0], 0, 0],\n",
    "    [0, x1[1], 0],\n",
    "    [0, 0, x1[2]]\n",
    "])\n",
    "print(np.matmul(A1, V1))\n",
    "print(np.matmul(V1, D1))"
   ]
  },
  {
   "cell_type": "markdown",
   "metadata": {},
   "source": [
    "AV = VD"
   ]
  },
  {
   "cell_type": "markdown",
   "metadata": {
    "id": "HceOjNu-VfN9"
   },
   "source": [
    "### PROBLEM 2\n",
    "\n",
    "**Solve a nonlinear equation using the relaxation method**\n",
    "\n",
    "Consider the equation $x=1- e^{-cx}$, where $c$ is a known parameter and $x$ is unknown. This equation arises in a variety of situations, including the physics of contact processes, mathematical models of epidemics, and the theory of random graphs.\n",
    "\n",
    "1. Write a program to solve this equation for $x$ using the relaxation method for the case $c = 2$. Calculate your solution to an accuracy of at least $10^{-6}$. *(10 pts.)*\n",
    "\n",
    "2. Modify your program to calculate the solution for values of $c$ from 0 to 3 in steps of 0.01. *(10 pts.)*\n",
    "\n",
    "3. Make a plot of $x$ as a function of $c$. Describe the different regimes that you see. *(10 pts.)*"
   ]
  },
  {
   "cell_type": "code",
   "execution_count": 4,
   "metadata": {
    "id": "p28JF-OQYock"
   },
   "outputs": [],
   "source": [
    "from math import exp\n",
    "def f2(c, x):\n",
    "    return 1 - exp(-c*x)"
   ]
  },
  {
   "cell_type": "code",
   "execution_count": 5,
   "metadata": {},
   "outputs": [
    {
     "data": {
      "text/plain": [
       "0.7968151643557075"
      ]
     },
     "execution_count": 5,
     "metadata": {},
     "output_type": "execute_result"
    }
   ],
   "source": [
    "def relx_while(f, c, x):\n",
    "    x_diff = 1.0\n",
    "    x_store = 0.0\n",
    "    while x_diff >= 10e-6:\n",
    "        x = f(c, x)\n",
    "        x_diff = abs(x_store-x)\n",
    "        x_store = x\n",
    "    return x\n",
    "relx_while(f2, 2.0, 1.0)"
   ]
  },
  {
   "cell_type": "code",
   "execution_count": 6,
   "metadata": {},
   "outputs": [],
   "source": [
    "x2_data = np.linspace(0, 3, 300)\n",
    "y2_data = []\n",
    "for k in range(300):\n",
    "    y2_data.append(relx_while(f2, x2_data[k], 1.0))"
   ]
  },
  {
   "cell_type": "code",
   "execution_count": 7,
   "metadata": {},
   "outputs": [
    {
     "data": {
      "text/plain": [
       "<function matplotlib.pyplot.show(*args, **kw)>"
      ]
     },
     "execution_count": 7,
     "metadata": {},
     "output_type": "execute_result"
    },
    {
     "data": {
      "image/png": "[encoded data removed]",
      "text/plain": [
       "<Figure size 432x288 with 1 Axes>"
      ]
     },
     "metadata": {
      "needs_background": "light"
     },
     "output_type": "display_data"
    }
   ],
   "source": [
    "from matplotlib import pyplot as plt\n",
    "plt.plot(x2_data, y2_data, marker=\".\")\n",
    "plt.show"
   ]
  },
  {
   "cell_type": "markdown",
   "metadata": {
    "id": "BY5x-mZsYoqG"
   },
   "source": [
    "### PROBLEM 3\n",
    "\n",
    "**Physics Application: Calculating the Lagrange point**\n",
    "\n",
    "_Refer to Exercise 6.16 of the Newman text._ The $L_1$ Lagrange point is the point between the Earth and the Moon at which a satellite will orbit the Earth in perfect synchrony with the Moon, staying always in between the two.\n",
    "\n",
    "Assuming circular orbits, and assuming that the Earth is much more massive than either the Moon or the satellite, the distance $r$ from the center of the Earth to the $L_1$ point satisfies\n",
    "$$ \\begin{equation}\n",
    "\\frac{GM}{r^2} - \\frac{Gm}{(R-r)^2} = \\omega^2 r,\n",
    "\\end{equation} $$\n",
    "where $R$ is the distance from the Earth to the Moon, $M$ and $m$ are the Earth and Moon masses, $G$ is Newton's gravitational constant, and $\\omega$ is the angular velocity of both the Moon and the satellite."
   ]
  },
  {
   "cell_type": "markdown",
   "metadata": {
    "id": "LlDDXIZ46CKU"
   },
   "source": [
    "Use Newton's method to solve for the distance r from the Earth to the $L_1$ point. Compute a solution accurate to at least four significant figures."
   ]
  },
  {
   "cell_type": "markdown",
   "metadata": {},
   "source": [
    "$$ \\begin{equation}\n",
    "r = \\frac{G}{\\omega^2}(\\frac{M}{r^2} - \\frac{m}{(R-r)^2})\n",
    "\\end{equation} $$"
   ]
  },
  {
   "cell_type": "code",
   "execution_count": 8,
   "metadata": {
    "id": "Jiu5YAx6aMmq"
   },
   "outputs": [],
   "source": [
    "def f3(r):\n",
    "    G = 6.6743e-11\n",
    "    w = 2.7e-6\n",
    "    M = 5.972e24\n",
    "    m = 7.34767309e22\n",
    "    R = 384.4e6\n",
    "    return (G/(w**2))*((M/(r**2))-(m/((R-r)**2)))"
   ]
  },
  {
   "cell_type": "code",
   "execution_count": 9,
   "metadata": {},
   "outputs": [],
   "source": [
    "def secant(r_1, r_2, tolerance):\n",
    "    r_3 = 0.0\n",
    "    epsilon = 1.0\n",
    "    while epsilon >= tolerance:\n",
    "        r_3 = r_2 - f3(r_2)*((r_2-r_1)/(f3(r_2)-f3(r_1)))\n",
    "        epsilon = abs(r_3-r_2)\n",
    "        r_1 = r_2\n",
    "        r_2 = r_3\n",
    "        print(\"guess:\",r_3)\n",
    "        print(\"epsilon:\",epsilon)\n",
    "    return r_3"
   ]
  },
  {
   "cell_type": "code",
   "execution_count": 10,
   "metadata": {},
   "outputs": [
    {
     "name": "stdout",
     "output_type": "stream",
     "text": [
      "guess: 304092588.3342573\n",
      "epsilon: 94092588.3342573\n",
      "guess: 366795434.5321934\n",
      "epsilon: 62702846.19793612\n",
      "guess: 317656278.1427732\n",
      "epsilon: 49139156.38942021\n",
      "guess: 326568320.04690063\n",
      "epsilon: 8912041.904127419\n",
      "guess: 361581222.4078263\n",
      "epsilon: 35012902.360925674\n",
      "guess: 335771247.2060146\n",
      "epsilon: 25809975.20181173\n",
      "guess: 340588358.1761612\n",
      "epsilon: 4817110.970146656\n",
      "guess: 347901854.16356164\n",
      "epsilon: 7313495.987400413\n",
      "guess: 345665045.52650005\n",
      "epsilon: 2236808.637061596\n",
      "guess: 345995932.8132784\n",
      "epsilon: 330887.2867783308\n",
      "guess: 346019390.5082543\n",
      "epsilon: 23457.69497591257\n",
      "guess: 346019105.25169826\n",
      "epsilon: 285.25655603408813\n",
      "guess: 346019105.4811913\n",
      "epsilon: 0.22949302196502686\n",
      "guess: 346019105.48119354\n",
      "epsilon: 2.2649765014648438e-06\n"
     ]
    },
    {
     "data": {
      "text/plain": [
       "346019105.48119354"
      ]
     },
     "execution_count": 10,
     "metadata": {},
     "output_type": "execute_result"
    }
   ],
   "source": [
    "secant(200e6, 210e6, 10e-4)"
   ]
  },
  {
   "cell_type": "code",
   "execution_count": 11,
   "metadata": {},
   "outputs": [
    {
     "name": "stdout",
     "output_type": "stream",
     "text": [
      "guess: 372606329.827824\n",
      "epsilon: 52606329.827824\n",
      "guess: 324061997.4339622\n",
      "epsilon: 48544332.39386177\n",
      "guess: 327474031.38987255\n",
      "epsilon: 3412033.955910325\n",
      "guess: 358161876.76899457\n",
      "epsilon: 30687845.37912202\n",
      "guess: 338345902.36367214\n",
      "epsilon: 19815974.405322433\n",
      "guess: 342815221.67674816\n",
      "epsilon: 4469319.313076019\n",
      "guess: 346861067.1286618\n",
      "epsilon: 4045845.451913655\n",
      "guess: 345925543.4431659\n",
      "epsilon: 935523.685495913\n",
      "guess: 346016367.4649748\n",
      "epsilon: 90824.02180892229\n",
      "guess: 346019114.3820518\n",
      "epsilon: 2746.9170770049095\n",
      "guess: 346019105.48034674\n",
      "epsilon: 8.901705086231232\n",
      "guess: 346019105.48119354\n",
      "epsilon: 0.0008468031883239746\n"
     ]
    },
    {
     "data": {
      "text/plain": [
       "346019105.48119354"
      ]
     },
     "execution_count": 11,
     "metadata": {},
     "output_type": "execute_result"
    }
   ],
   "source": [
    "secant(300e6, 320e6, 10e-4)"
   ]
  }
 ],
 "metadata": {
  "colab": {
   "provenance": []
  },
  "kernelspec": {
   "display_name": "Python 3",
   "language": "python",
   "name": "python3"
  },
  "language_info": {
   "codemirror_mode": {
    "name": "ipython",
    "version": 3
   },
   "file_extension": ".py",
   "mimetype": "text/x-python",
   "name": "python",
   "nbconvert_exporter": "python",
   "pygments_lexer": "ipython3",
   "version": "3.8.3"
  }
 },
 "nbformat": 4,
 "nbformat_minor": 1
}
