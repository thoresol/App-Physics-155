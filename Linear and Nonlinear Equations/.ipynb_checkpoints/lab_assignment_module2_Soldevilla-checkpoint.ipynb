{
 "cells": [
  {
   "cell_type": "markdown",
   "metadata": {
    "id": "G0BcK0H_G1Iu"
   },
   "source": [
    "# **AP155 Lab Assignment**\n",
    "## Module 2: Solution of Linear and Nonlinear Equations\n",
    "\n",
    "_Instructions_: Answer each problem as completely as you can. Discuss **all** your answers as clearly and concisely as possible.\n",
    "\n",
    "_Scoring Criteria_: 50% - *correctness of code*; 50% - *discussion of the code and results*. Maximum score is **100 points**.\n",
    "\n"
   ]
  },
  {
   "cell_type": "markdown",
   "metadata": {
    "id": "PeHZ9kP8JaVR"
   },
   "source": [
    "### Student Information\n",
    "\n",
    "_Full Name (Last Name, First Name)_: Thoreenz Soldevilla\\\n",
    "_Student No._: 2021-04225\\\n",
    "_Section_: THQ-HX-1"
   ]
  },
  {
   "cell_type": "markdown",
   "metadata": {
    "id": "Hc183co-J4eI"
   },
   "source": [
    "### Submission Information\n",
    "\n",
    "_Date and Time Submitted (most recent upload)_:\n",
    "\n",
    "**HONOR PLEDGE** I affirm that I have upheld the highest principles of honesty and integrity in my academic work and that this lab assignment is my own work.\n",
    "\n",
    "**Sign here with your full name:** Thoreenz Soldeviila"
   ]
  },
  {
   "cell_type": "markdown",
   "metadata": {
    "id": "4LUwfsfMBmvd"
   },
   "source": [
    "### Grading Information (c/o Lab Instructor)\n",
    "\n",
    "TOTAL SCORE: **XX**/100\n",
    "\n",
    "Score breakdown:\n",
    "* Problem 1 - XX/30\n",
    "* Problem 2 - XX/30\n",
    "* Problem 3 - XX/40\n",
    "\n"
   ]
  },
  {
   "cell_type": "code",
   "execution_count": 1,
   "metadata": {},
   "outputs": [],
   "source": [
    "import numpy as np"
   ]
  },
  {
   "cell_type": "markdown",
   "metadata": {
    "id": "kBX9EyMLOnXj"
   },
   "source": [
    "### PROBLEM 1\n",
    "\n",
    "**Solve for eigenvalues and eigenvectors of a symmetric matrix**\n",
    "\n",
    "1. Use numpy's $\\tt linalg$ package to find the eigenvalues and eigenvectors of the ff. symmetrix matrix *(15 pts.)*:\n",
    "\n",
    "$ \\begin{equation}\n",
    "{\\bf A} =\n",
    "\\begin{pmatrix}\n",
    "8 & -2 & -20 \\\\\n",
    "-2 & -3 & -9 \\\\\n",
    "-20 & -9 & -3\n",
    "\\end{pmatrix} \\end{equation} $\n",
    "\n",
    "2. Check your answer numerically; that is, check that $\\bf AV = VD$, where the $N$ x $N$ matrix $\\bf V$ has the eigenvectors as its columns and $\\bf D$ is the diagonal matrix with the eigenvalues $\\lambda_i$ as its diagonal entries. *(15 pts.)*"
   ]
  },
  {
   "cell_type": "code",
   "execution_count": 7,
   "metadata": {
    "id": "GABjwlXCR97i"
   },
   "outputs": [
    {
     "name": "stdout",
     "output_type": "stream",
     "text": [
      "[-21.99606195   0.16021522  23.83584674]\n",
      "[[ 0.52496527  0.36793396 -0.76748685]\n",
      " [ 0.40892672 -0.89987151 -0.15169114]\n",
      " [ 0.74645187  0.2342133   0.62285932]]\n"
     ]
    }
   ],
   "source": [
    "A1 = np.array([\n",
    "    [8, -2, -20],\n",
    "    [-2, -3, -9],\n",
    "    [-20, -9, -3]\n",
    "], float)\n",
    "x1, V1 = np.linalg.eigh(A1)\n",
    "print(x1)\n",
    "print(V1)"
   ]
  },
  {
   "cell_type": "code",
   "execution_count": 8,
   "metadata": {},
   "outputs": [
    {
     "name": "stdout",
     "output_type": "stream",
     "text": [
      "[[-11.54716868   0.05894862 -18.29369893]\n",
      " [ -8.99477756  -0.14417311  -3.61568676]\n",
      " [-16.4190016    0.03752454  14.8463793 ]]\n",
      "[[-11.54716868   0.05894862 -18.29369893]\n",
      " [ -8.99477756  -0.14417311  -3.61568676]\n",
      " [-16.4190016    0.03752454  14.8463793 ]]\n"
     ]
    }
   ],
   "source": [
    "D1 = np.array([\n",
    "    [x1[0], 0, 0],\n",
    "    [0, x1[1], 0],\n",
    "    [0, 0, x1[2]]\n",
    "])\n",
    "print(np.matmul(A1, V1))\n",
    "print(np.matmul(V1, D1))"
   ]
  },
  {
   "cell_type": "markdown",
   "metadata": {},
   "source": [
    "AV = VD"
   ]
  },
  {
   "cell_type": "markdown",
   "metadata": {
    "id": "HceOjNu-VfN9"
   },
   "source": [
    "### PROBLEM 2\n",
    "\n",
    "**Solve a nonlinear equation using the relaxation method**\n",
    "\n",
    "Consider the equation $x=1- e^{-cx}$, where $c$ is a known parameter and $x$ is unknown. This equation arises in a variety of situations, including the physics of contact processes, mathematical models of epidemics, and the theory of random graphs.\n",
    "\n",
    "1. Write a program to solve this equation for $x$ using the relaxation method for the case $c = 2$. Calculate your solution to an accuracy of at least $10^{-6}$. *(10 pts.)*\n",
    "\n",
    "2. Modify your program to calculate the solution for values of $c$ from 0 to 3 in steps of 0.01. *(10 pts.)*\n",
    "\n",
    "3. Make a plot of $x$ as a function of $c$. Describe the different regimes that you see. *(10 pts.)*"
   ]
  },
  {
   "cell_type": "code",
   "execution_count": 9,
   "metadata": {
    "id": "p28JF-OQYock"
   },
   "outputs": [],
   "source": [
    "from math import exp\n",
    "def f2(c, x):\n",
    "    return 1 - exp(-c*x)"
   ]
  },
  {
   "cell_type": "code",
   "execution_count": 24,
   "metadata": {},
   "outputs": [
    {
     "name": "stdout",
     "output_type": "stream",
     "text": [
      "0.7968121300200202999999999994\n"
     ]
    }
   ],
   "source": [
    "import time\n",
    "x2 = 1.0\n",
    "N2 = 1000\n",
    "for k in range(N2):\n",
    "    x2 = f2(2, x2)\n",
    "    time.sleep(0.001)\n",
    "    print(f\"Progress is {(k+1)/N2*100}\", end='\\r')\n",
    "print(x2)"
   ]
  },
  {
   "cell_type": "code",
   "execution_count": 28,
   "metadata": {},
   "outputs": [
    {
     "name": "stdout",
     "output_type": "stream",
     "text": [
      "Progress is 100.09999999999996\r"
     ]
    },
    {
     "data": {
      "text/plain": [
       "0.7968121300200202"
      ]
     },
     "execution_count": 28,
     "metadata": {},
     "output_type": "execute_result"
    }
   ],
   "source": [
    "def relx(f, c, x, N):\n",
    "    for k in range(N):\n",
    "        x = f(c, x)\n",
    "        time.sleep(0.001)\n",
    "        print(f\"Progress is {(k+1)/N*100}\", end='\\r')\n",
    "    return x\n",
    "relx(f2, 2, 1.0, 100)"
   ]
  },
  {
   "cell_type": "code",
   "execution_count": 31,
   "metadata": {},
   "outputs": [
    {
     "name": "stdout",
     "output_type": "stream",
     "text": [
      "Solving 0\n",
      "Solving 1is 100.0\n",
      "Solving 2is 100.0\n",
      "Solving 3is 100.0\n",
      "Solving 4is 100.0\n",
      "Solving 5is 100.0\n",
      "Solving 6is 100.0\n",
      "Solving 7is 100.0\n",
      "Solving 8is 100.0\n",
      "Solving 9is 100.0\n",
      "Solving 10s 100.0\n",
      "Solving 11s 100.0\n",
      "Solving 12s 100.0\n",
      "Solving 13s 100.0\n",
      "Solving 14s 100.0\n",
      "Solving 15s 100.0\n",
      "Solving 16s 100.0\n",
      "Solving 17s 100.0\n",
      "Solving 18s 100.0\n",
      "Solving 19s 100.0\n",
      "Solving 20s 100.0\n",
      "Solving 21s 100.0\n",
      "Solving 22s 100.0\n",
      "Solving 23s 100.0\n",
      "Solving 24s 100.0\n",
      "Solving 25s 100.0\n",
      "Solving 26s 100.0\n",
      "Solving 27s 100.0\n",
      "Solving 28s 100.0\n",
      "Solving 29s 100.0\n",
      "Solving 30s 100.0\n",
      "Solving 31s 100.0\n",
      "Solving 32s 100.0\n",
      "Solving 33s 100.0\n",
      "Solving 34s 100.0\n",
      "Solving 35s 100.0\n",
      "Solving 36s 100.0\n",
      "Solving 37s 100.0\n",
      "Solving 38s 100.0\n",
      "Solving 39s 100.0\n",
      "Solving 40s 100.0\n",
      "Solving 41s 100.0\n",
      "Solving 42s 100.0\n",
      "Solving 43s 100.0\n",
      "Solving 44s 100.0\n",
      "Solving 45s 100.0\n",
      "Solving 46s 100.0\n",
      "Solving 47s 100.0\n",
      "Solving 48s 100.0\n",
      "Solving 49s 100.0\n",
      "Solving 50s 100.0\n",
      "Solving 51s 100.0\n",
      "Solving 52s 100.0\n",
      "Solving 53s 100.0\n",
      "Solving 54s 100.0\n",
      "Solving 55s 100.0\n",
      "Solving 56s 100.0\n",
      "Solving 57s 100.0\n",
      "Solving 58s 100.0\n",
      "Solving 59s 100.0\n",
      "Solving 60s 100.0\n",
      "Solving 61s 100.0\n",
      "Solving 62s 100.0\n",
      "Solving 63s 100.0\n",
      "Solving 64s 100.0\n",
      "Solving 65s 100.0\n",
      "Solving 66s 100.0\n",
      "Solving 67s 100.0\n",
      "Solving 68s 100.0\n",
      "Solving 69s 100.0\n",
      "Solving 70s 100.0\n",
      "Solving 71s 100.0\n",
      "Solving 72s 100.0\n",
      "Solving 73s 100.0\n",
      "Solving 74s 100.0\n",
      "Solving 75s 100.0\n",
      "Solving 76s 100.0\n",
      "Solving 77s 100.0\n",
      "Solving 78s 100.0\n",
      "Solving 79s 100.0\n",
      "Solving 80s 100.0\n",
      "Solving 81s 100.0\n",
      "Solving 82s 100.0\n",
      "Solving 83s 100.0\n",
      "Solving 84s 100.0\n",
      "Solving 85s 100.0\n",
      "Solving 86s 100.0\n",
      "Solving 87s 100.0\n",
      "Solving 88s 100.0\n",
      "Solving 89s 100.0\n",
      "Solving 90s 100.0\n",
      "Solving 91s 100.0\n",
      "Solving 92s 100.0\n",
      "Solving 93s 100.0\n",
      "Solving 94s 100.0\n",
      "Solving 95s 100.0\n",
      "Solving 96s 100.0\n",
      "Solving 97s 100.0\n",
      "Solving 98s 100.0\n",
      "Solving 99s 100.0\n",
      "Solving 100 100.0\n",
      "Solving 101 100.0\n",
      "Solving 102 100.0\n",
      "Solving 103 100.0\n",
      "Solving 104 100.0\n",
      "Solving 105 100.0\n",
      "Solving 106 100.0\n",
      "Solving 107 100.0\n",
      "Solving 108 100.0\n",
      "Solving 109 100.0\n",
      "Solving 110 100.0\n",
      "Solving 111 100.0\n",
      "Solving 112 100.0\n",
      "Solving 113 100.0\n",
      "Solving 114 100.0\n",
      "Solving 115 100.0\n",
      "Solving 116 100.0\n",
      "Solving 117 100.0\n",
      "Solving 118 100.0\n",
      "Solving 119 100.0\n",
      "Solving 120 100.0\n",
      "Solving 121 100.0\n",
      "Solving 122 100.0\n",
      "Solving 123 100.0\n",
      "Solving 124 100.0\n",
      "Solving 125 100.0\n",
      "Solving 126 100.0\n",
      "Solving 127 100.0\n",
      "Solving 128 100.0\n",
      "Solving 129 100.0\n",
      "Solving 130 100.0\n",
      "Solving 131 100.0\n",
      "Solving 132 100.0\n",
      "Solving 133 100.0\n",
      "Solving 134 100.0\n",
      "Solving 135 100.0\n",
      "Solving 136 100.0\n",
      "Solving 137 100.0\n",
      "Solving 138 100.0\n",
      "Solving 139 100.0\n",
      "Solving 140 100.0\n",
      "Solving 141 100.0\n",
      "Solving 142 100.0\n",
      "Solving 143 100.0\n",
      "Solving 144 100.0\n",
      "Solving 145 100.0\n",
      "Solving 146 100.0\n",
      "Solving 147 100.0\n",
      "Solving 148 100.0\n",
      "Solving 149 100.0\n",
      "Solving 150 100.0\n",
      "Solving 151 100.0\n",
      "Solving 152 100.0\n",
      "Solving 153 100.0\n",
      "Solving 154 100.0\n",
      "Solving 155 100.0\n",
      "Solving 156 100.0\n",
      "Solving 157 100.0\n",
      "Solving 158 100.0\n",
      "Solving 159 100.0\n",
      "Solving 160 100.0\n",
      "Solving 161 100.0\n",
      "Solving 162 100.0\n",
      "Solving 163 100.0\n",
      "Solving 164 100.0\n",
      "Solving 165 100.0\n",
      "Solving 166 100.0\n",
      "Solving 167 100.0\n",
      "Solving 168 100.0\n",
      "Solving 169 100.0\n",
      "Solving 170 100.0\n",
      "Solving 171 100.0\n",
      "Solving 172 100.0\n",
      "Solving 173 100.0\n",
      "Solving 174 100.0\n",
      "Solving 175 100.0\n",
      "Solving 176 100.0\n",
      "Solving 177 100.0\n",
      "Solving 178 100.0\n",
      "Solving 179 100.0\n",
      "Solving 180 100.0\n",
      "Solving 181 100.0\n",
      "Solving 182 100.0\n",
      "Solving 183 100.0\n",
      "Solving 184 100.0\n",
      "Solving 185 100.0\n",
      "Solving 186 100.0\n",
      "Solving 187 100.0\n",
      "Solving 188 100.0\n",
      "Solving 189 100.0\n",
      "Solving 190 100.0\n",
      "Solving 191 100.0\n",
      "Solving 192 100.0\n",
      "Solving 193 100.0\n",
      "Solving 194 100.0\n",
      "Solving 195 100.0\n",
      "Solving 196 100.0\n",
      "Solving 197 100.0\n",
      "Solving 198 100.0\n",
      "Solving  is 100.0199\n",
      "Solving 200 100.0\n",
      "Solving 201 100.0\n",
      "Solving 202 100.0\n",
      "Solving 203 100.0\n",
      "Solving 204 100.0\n",
      "Solving 205 100.0\n",
      "Solving 206 100.0\n",
      "Solving 207 100.0\n",
      "Solving 208 100.0\n",
      "Solving 209 100.0\n",
      "Solving 210 100.0\n",
      "Solving 211 100.0\n",
      "Solving 212 100.0\n",
      "Solving 213 100.0\n",
      "Solving 214 100.0\n",
      "Solving 215 100.0\n",
      "Solving 216 100.0\n",
      "Solving 217 100.0\n",
      "Solving 218 100.0\n",
      "Solving 219 100.0\n",
      "Solving 220 100.0\n",
      "Solving 221 100.0\n",
      "Solving 222 100.0\n",
      "Solving 223 100.0\n",
      "Solving 224 100.0\n",
      "Solving 225 100.0\n",
      "Solving 226 100.0\n",
      "Solving 227 100.0\n",
      "Solving 228 100.0\n",
      "Solving 229 100.0\n",
      "Solving 230 100.0\n",
      "Solving 231 100.0\n",
      "Solving 232 100.0\n",
      "Solving 233 100.0\n",
      "Solving 234 100.0\n",
      "Solving 235 100.0\n",
      "Solving 236 100.0\n",
      "Solving 237 100.0\n",
      "Solving 238 100.0\n",
      "Solving 239 100.0\n",
      "Solving 240 100.0\n",
      "Solving 241 100.0\n",
      "Solving 242 100.0\n",
      "Solving 243 100.0\n",
      "Solving 244 100.0\n",
      "Solving 245 100.0\n",
      "Solving 246 100.0\n",
      "Solving 247 100.0\n",
      "Solving 248 100.0\n",
      "Solving 249 100.0\n",
      "Solving 250 100.0\n",
      "Solving 251 100.0\n",
      "Solving 252 100.0\n",
      "Solving 253 100.0\n",
      "Solving 254 100.0\n",
      "Solving 255 100.0\n",
      "Solving 256 100.0\n",
      "Solving 257 100.0\n",
      "Solving 258 100.0\n",
      "Solving 259 100.0\n",
      "Solving 260 100.0\n",
      "Solving 261 100.0\n",
      "Solving 262 100.0\n",
      "Solving 263 100.0\n",
      "Solving 264 100.0\n",
      "Solving 265 100.0\n",
      "Solving 266 100.0\n",
      "Solving 267 100.0\n",
      "Solving 268 100.0\n",
      "Solving 269 100.0\n",
      "Solving 270 100.0\n",
      "Solving 271 100.0\n",
      "Solving 272 100.0\n",
      "Solving 273 100.0\n",
      "Solving 274 100.0\n",
      "Solving 275 100.0\n",
      "Solving 276 100.0\n",
      "Solving 277 100.0\n",
      "Solving 278 100.0\n",
      "Solving 279 100.0\n",
      "Solving 280 100.0\n",
      "Solving 281 100.0\n",
      "Solving 282 100.0\n",
      "Solving 283 100.0\n",
      "Solving 284 100.0\n",
      "Solving 285 100.0\n",
      "Solving 286 100.0\n",
      "Solving 287 100.0\n",
      "Solving 288 100.0\n",
      "Solving 289 100.0\n",
      "Solving 290 100.0\n",
      "Solving 291 100.0\n",
      "Solving 292 100.0\n",
      "Solving 293 100.0\n",
      "Solving 294 100.0\n",
      "Solving 295 100.0\n",
      "Solving 296 100.0\n",
      "Solving 297 100.0\n",
      "Solving 298 100.0\n",
      "Solving 299 100.0\n",
      "[0.0, 0.0, 0.0, 5.551115123125783e-16, 1.0658141036401503e-14, 9.836575998178887e-14, 6.056266599330229e-13, 2.813194122097684e-12, 1.0632272839927737e-11, 3.432454320773104e-11, 9.785572352427607e-11, 2.5227320232801276e-10, 5.985013595832811e-10, 1.3241714391654114e-09, 2.7605622232584892e-09, 5.467434061046106e-09, 1.0355490132063494e-08, 1.8858395622878277e-08, 3.3168726432109e-08, 5.655488555245114e-08, 9.377891052597676e-08, 1.5163817113084122e-07, 2.3965719830876253e-07, 3.7095926164187887e-07, 5.633507790259173e-07, 8.406551598172385e-07, 1.2343361838196287e-06, 1.7854544631656921e-06, 2.547003825292826e-06, 3.586677542743999e-06, 4.990117111525194e-06, 6.864698658959334e-06, 9.343913939807713e-06, 1.2592404134648127e-05, 1.6811705179642367e-05, 2.224676299866779e-05, 2.9193275629002535e-05, 3.80059166850133e-05, 4.910749073394616e-05, 6.299906579076975e-05, 8.027112112152235e-05, 0.00010161573968703319, 0.00012783986371667222, 0.00015987961889230018, 0.00019881569730351156, 0.0002458897715802433, 0.00030252189229473814, 0.00037032879778786665, 0.00045114303998328165, 0.0005470328015283465, 0.0006603222488359428, 0.0007936122324799788, 0.0009498011111729321, 0.0011321054386279616, 0.0013440802144724096, 0.0015896383616855747, 0.001873069054576293, 0.002199054484043672, 0.0025726846118994118, 0.002999469434630586, 0.003485348250588216, 0.004036695404732504, 0.004660321973419479, 0.005363472849979178, 0.006153818701736036, 0.007039442292329778, 0.008028818701212415, 0.009130789026351893, 0.010354527227422694, 0.011709499855660166, 0.01320541852313628, 0.014852185087860903, 0.016659829670532922, 0.018638441771873904, 0.02079809492340068, 0.023148765475541788, 0.025700246300752405, 0.028462056360608612, 0.031443347249153986, 0.034652807974042577, 0.038098569366213586, 0.04178810961202406, 0.045728162473504086, 0.04992462979797596, 0.05438249991402477, 0.05910577346435697, 0.06409739813655235, 0.06935921362089814, 0.0748919079528434, 0.0806949861903078, 0.08676675213878793, 0.09310430357698918, 0.09970354116062707, 0.10655919090084331, 0.11366483983542552, 0.12101298424457574, 0.12859508951674048, 0.13640166055139025, 0.14442232140086753, 0.1526459027071999, 0.16106053538521103, 0.1696537489417449, 0.17841257280206602, 0.18732363903668325, 0.1963732849417551, 0.20554765401953035, 0.21483279402675737, 0.22421475090289622, 0.2336796575502622, 0.2432138166088661, 0.25280377654394537, 0.26243640053864403, 0.27209892785330925, 0.2817790274724157, 0.291464844007016, 0.30114503595244047, 0.31080880651609755, 0.3204459273278104, 0.3300467554248919, 0.3396022439664965, 0.3491039471774785, 0.3585440200522174, 0.36791521336510014, 0.37721086453817676, 0.38642488490967086, 0.3955517439312283, 0.4045864507987599, 0.4135245339930397, 0.4223620191733902, 0.43109540583212547, 0.4397216430801375, 0.44823810489611915, 0.4566425651342617, 0.4649331725485667, 0.47310842605670644, 0.48116715043308733, 0.48910847258971324, 0.49693179857480485, 0.5046367913930182, 0.5122233497275609, 0.5196915876234826, 0.5270418151728721, 0.5342745202264839, 0.5413903511423375, 0.5483901005698999, 0.5552746902584331, 0.5620451568697746, 0.5687026387690663, 0.5752483637615717, 0.5816836377395782, 0.5880098342003093, 0.594228384593628, 0.6003407694569713, 0.6063485102942984, 0.6122531621557391, 0.6180563068750202, 0.6237595469225129, 0.6293644998328298, 0.6348727931672276, 0.6402860599725784, 0.6456059347003233, 0.6508340495505601, 0.655972031208214, 0.661021497940059, 0.665984057023187, 0.670861302477318, 0.6756548130751208, 0.6803661506064252, 0.6849968583738736, 0.6895484598991481, 0.6940224578204393, 0.6984203329632601, 0.7027435435680909, 0.7069935246596238, 0.7111716875436002, 0.7152794194183665, 0.7193180830893455, 0.7232890167756134, 0.7271935339986926, 0.7310329235445369, 0.734808449490474, 0.7385213512896123, 0.7421728439058919, 0.7457641179935943, 0.7492963401156919, 0.752770652995959, 0.7561881758002429, 0.7595500044427461, 0.7628572119135751, 0.7661108486241872, 0.769311942767704, 0.7724615006913766, 0.7755605072787659, 0.778609926339462, 0.781610701004402, 0.7845637541250571, 0.7874699886749541, 0.7903302881521728, 0.7931455169816172, 0.7959165209160065, 0.7986441274346567, 0.8013291461392452, 0.8039723691458533, 0.8065745714726811, 0.8091365114229084, 0.811658930962261, 0.8141425560909008, 0.8165880972093298, 0.8189962494780472, 0.8213676931707492, 0.8237030940209084, 0.8260031035616053, 0.8282683594585205, 0.8304994858360288, 0.832697093596361, 0.8348617807318253, 0.8369941326300996, 0.8390947223726283, 0.8411641110261658, 0.843202847927534, 0.8452114709616605, 0.847190506832987, 0.8491404713303357, 0.8510618695853369, 0.8529551963245221, 0.8548209361151945, 0.8566595636051928, 0.8584715437566668, 0.8602573320739869, 0.8620173748259078, 0.8637521092621167, 0.8654619638242835, 0.8671473583517469, 0.8688087042819523, 0.8704464048457758, 0.872060855257849, 0.8736524429020158, 0.8752215475120343, 0.8767685413476509, 0.8782937893661591, 0.8797976493895625, 0.8812804722674544, 0.8827426020357275, 0.8841843760712211, 0.8856061252424168, 0.8870081740562852, 0.8883908408013883, 0.8897544376873372, 0.8910992709807046, 0.892425641137487, 0.8937338429322113, 0.8950241655837753, 0.8962968928781146, 0.8975523032877776, 0.8987906700884974, 0.9000122614728416, 0.9012173406610179, 0.902406166008916, 0.9035789911134604, 0.904736064915348, 0.9058776317992405, 0.9070039316914847, 0.9081152001554241, 0.9092116684843708, 0.9102935637922999, 0.9113611091023284, 0.9124145234330405, 0.9134540218827156, 0.914479815711517, 0.9154921124216968, 0.91649111583587, 0.9174770261734102, 0.9184500401250179, 0.9194103509255085, 0.920358148424871, 0.9212936191576411, 0.9222169464106339, 0.9231283102890819, 0.9240278877812176, 0.9249158528213448, 0.9257923763514366, 0.9266576263813001, 0.9275117680473443, 0.9283549636699894, 0.9291873728097517, 0.9300091523220397, 0.9308204564106933, 0.931621436680301, 0.9324122421873248, 0.933193019490065, 0.933963912697493, 0.9347250635169834, 0.9354766113009713, 0.9362186930925641, 0.9369514436701333, 0.9376749955909119, 0.9383894792336246, 0.9390950228401718, 0.9397917525563947, 0.9404797924719422]\n"
     ]
    }
   ],
   "source": [
    "x2_data = np.linspace(0, 3, 300)\n",
    "y2_data = []\n",
    "for k in range(300):\n",
    "    y2_data.append(relx(f2, x2_data[k], 1.0, 1000))\n",
    "print(y2_data)"
   ]
  },
  {
   "cell_type": "code",
   "execution_count": 32,
   "metadata": {},
   "outputs": [
    {
     "data": {
      "text/plain": [
       "<function matplotlib.pyplot.show(*args, **kw)>"
      ]
     },
     "execution_count": 32,
     "metadata": {},
     "output_type": "execute_result"
    },
    {
     "data": {
      "image/png": "[encoded data removed]",
      "text/plain": [
       "<Figure size 432x288 with 1 Axes>"
      ]
     },
     "metadata": {
      "needs_background": "light"
     },
     "output_type": "display_data"
    }
   ],
   "source": [
    "from matplotlib import pyplot as plt\n",
    "plt.plot(x2_data, y2_data)\n",
    "plt.show"
   ]
  },
  {
   "cell_type": "markdown",
   "metadata": {
    "id": "BY5x-mZsYoqG"
   },
   "source": [
    "### PROBLEM 3\n",
    "\n",
    "**Physics Application: Calculating the Lagrange point**\n",
    "\n",
    "_Refer to Exercise 6.16 of the Newman text._ The $L_1$ Lagrange point is the point between the Earth and the Moon at which a satellite will orbit the Earth in perfect synchrony with the Moon, staying always in between the two.\n",
    "\n",
    "Assuming circular orbits, and assuming that the Earth is much more massive than either the Moon or the satellite, the distance $r$ from the center of the Earth to the $L_1$ point satisfies\n",
    "$$ \\begin{equation}\n",
    "\\frac{GM}{r^2} - \\frac{Gm}{(R-r)^2} = \\omega^2 r,\n",
    "\\end{equation} $$\n",
    "where $R$ is the distance from the Earth to the Moon, $M$ and $m$ are the Earth and Moon masses, $G$ is Newton's gravitational constant, and $\\omega$ is the angular velocity of both the Moon and the satellite."
   ]
  },
  {
   "cell_type": "markdown",
   "metadata": {
    "id": "LlDDXIZ46CKU"
   },
   "source": [
    "Use Newton's method to solve for the distance r from the Earth to the $L_1$ point. Compute a solution accurate to at least four significant figures."
   ]
  },
  {
   "cell_type": "code",
   "execution_count": null,
   "metadata": {
    "id": "Jiu5YAx6aMmq"
   },
   "outputs": [],
   "source": []
  }
 ],
 "metadata": {
  "colab": {
   "provenance": []
  },
  "kernelspec": {
   "display_name": "Python 3",
   "language": "python",
   "name": "python3"
  },
  "language_info": {
   "codemirror_mode": {
    "name": "ipython",
    "version": 3
   },
   "file_extension": ".py",
   "mimetype": "text/x-python",
   "name": "python",
   "nbconvert_exporter": "python",
   "pygments_lexer": "ipython3",
   "version": "3.8.3"
  }
 },
 "nbformat": 4,
 "nbformat_minor": 1
}
