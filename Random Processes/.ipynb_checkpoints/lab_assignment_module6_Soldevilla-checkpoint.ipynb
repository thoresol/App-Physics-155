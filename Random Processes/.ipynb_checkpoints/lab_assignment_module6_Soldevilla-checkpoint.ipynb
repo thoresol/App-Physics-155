{
 "cells": [
  {
   "cell_type": "markdown",
   "metadata": {
    "id": "G0BcK0H_G1Iu"
   },
   "source": [
    "# **AP155 Lab Assignment**\n",
    "## Module 6: Random Process and Monte Carlo Methods\n",
    "\n",
    "_Instructions_: Answer each problem as completely as you can. Discuss **all** your answers as clearly and concisely as possible.\n",
    "\n",
    "_Scoring Criteria_: 50% - *correctness of code*; 50% - *discussion of the code and results*. Maximum score is **100 points**.\n"
   ]
  },
  {
   "cell_type": "markdown",
   "metadata": {
    "id": "PeHZ9kP8JaVR"
   },
   "source": [
    "### Student Information\n",
    "\n",
    "_Full Name (Last Name, First Name)_: Soldevilla, Thoreenz\\\n",
    "_Student No._: 2021-04225\\\n",
    "_Section_: THU-HX-1"
   ]
  },
  {
   "cell_type": "markdown",
   "metadata": {
    "id": "Hc183co-J4eI"
   },
   "source": [
    "### Submission Information\n",
    "\n",
    "_Date and Time Submitted (most recent upload)_: 12/12/23, 3:09 AM\n",
    "\n",
    "**HONOR PLEDGE** I affirm that I have upheld the highest principles of honesty and integrity in my academic work and that this lab assignment is my own work.\n",
    "\n",
    "**Sign here with your full name:** Thoreenz Soldevilla"
   ]
  },
  {
   "cell_type": "markdown",
   "metadata": {
    "id": "c4UEpIRtGbM2"
   },
   "source": [
    "### Grading Information (c/o Lab Instructor)\n",
    "\n",
    "TOTAL SCORE: **98**/100\n",
    "\n",
    "Score breakdown:\n",
    "* Problem 1 - 98/100\n",
    "\n",
    "_Date and Time Scored (MM/DD/YYYY HH:MM AM/PM):_"
   ]
  },
  {
   "cell_type": "markdown",
   "metadata": {
    "id": "LxWuqiCFMsEh"
   },
   "source": [
    "### PROBLEM 1\n",
    "\n",
    "**The Ising model**\n",
    "\n",
    "_Refer to Exercise 10.9 in the Newman text._ The Ising model is a theoretical model of a magnet. The magnetic potential energy due to the interaction of two dipoles is proportional to their dot product, but in the Ising model this simplifies to just the product $s_i s_j$ for spins on sites $i$ and $j$ of the lattice, since the spins are one-dimensional scalars, not vectors. Then the actual energy of interaction is $-Js_i s_j$, where $J$ is a positive interaction constant. The minus sign ensures that the in- teractions are ferromagnetic, meaning the energy is lower when dipoles are lined up. A ferromagnetic interaction implies that the material will magnetize if given the chance.\n",
    "\n",
    "Normally it is assumed that spins interact only with those that are immediately adjacent to them on the lattice, which gives a total energy for the entire system equal to\n",
    "$$ E = -J \\sum_{\\langle ij \\rangle} s_i s_j,$$\n",
    "where the notation $\\langle ij \\rangle$ indicates a sum over pairs $i,j$ that are adjacent on the lattice. On the square lattice we use in this exercise each spin has four adjacent neighbors with which it interacts, except for the spins at the edges of the lattice, which have either two or three neighbors.\n",
    "\n",
    "Perform a Markov chain Monte Carlo simulation of the Ising model on the square lattice for a system of 20 x 20 spins. You will need to set up variables to hold the value ±1 of the spin on each lattice site, probably using a two-dimensional integer array, and then take the following steps.\n",
    "\n",
    "1. Write a function to calculate the total energy of the system, as given by the equation above. That is, for a given array of values of the spins, go through every pair of adjacent spins and add up the contributions $s_i s_j$ from all of them, then multiply by $-J$. Hint 1: Each unique pair of adjacent spins crops up only once in the sum. Thus there is a term $-Js_1s_2$ if spins 1 and 2 are adjacent to one another, but you do not also need a term $-Js_2s_1$. Hint 2: To make your final program to run in a reasonable amount of time, you will find it helpful if you can work out a way to calculate the energy using Python's ability to do arithmetic with entire arrays at once. If you do the calculation step by step, your program will be significantly slower. *(25 pts.)*\n",
    "\n",
    "2. Now use your function as the basis for a Metropolis-style simulation of the Ising model with $J = 1$ and temperature $T = 1$ in units where the Boltzmann constant $k_B$ is also 1. Initially set the spin variables randomly to ±1, so that on average about a half of them are up and a half down, giving a total magneti- zation of roughly zero. Then choose a spin at random, flip it, and calculate the new energy after it is flipped, and hence also the change in energy as a result of the flip. Then decide whether to accept the flip using the Metropolis acceptance formula, Eq. (10.60). If the move is rejected you will have to flip the spin back to where it was. Otherwise you keep the flipped spip. Now repeat this process for many moves. *(25 pts.)*\n",
    "\n",
    "3. Make a plot of the total magnetization $M = \\sum_i s_i$ of the system as a function of time for a million Monte Carlo steps. You should see that the system develops a \"spontaneous magnetization,\" a nonzero value of the overall magnetization. Hint: While you are working on your program, do shorter runs, of maybe ten thousand steps at a time. Once you have it working properly, do a longer run of a million steps to get the final results. *(25 pts.)*\n",
    "\n",
    "4. Run your program several times and observe the sign of the magnetization that develops, positive or negative. Describe what you find and give a brief explana- tion of what is happening. *(25 pts.)*"
   ]
  },
  {
   "cell_type": "markdown",
   "metadata": {},
   "source": [
    "We first import the necessary libraries for our problem. We also need to import $\\tt numba$ since it enables us to accelerate the runtime for each cell."
   ]
  },
  {
   "cell_type": "code",
   "execution_count": 1,
   "metadata": {
    "id": "hMqWOsbIMoUh"
   },
   "outputs": [],
   "source": [
    "import numpy as np\n",
    "import matplotlib.pyplot as plt"
   ]
  },
  {
   "cell_type": "code",
   "execution_count": 33,
   "metadata": {},
   "outputs": [],
   "source": [
    "import numba\n",
    "from numba import jit"
   ]
  },
  {
   "cell_type": "markdown",
   "metadata": {},
   "source": [
    "Here, we define the ising model by choosing the size of a square matrix to be $N=20$. From here, we create a matrix $\\tt random0$ that contains a random number from 0 to 1 for each entry."
   ]
  },
  {
   "cell_type": "code",
   "execution_count": 2,
   "metadata": {},
   "outputs": [
    {
     "data": {
      "text/plain": [
       "array([[4.69287363e-01, 5.17677096e-01, 4.18578724e-01, 3.43075822e-01,\n",
       "        3.25860856e-01, 9.09280077e-01, 6.52956812e-01, 8.07816617e-01,\n",
       "        7.91101030e-01, 1.24426293e-01, 6.57324779e-01, 7.12374593e-01,\n",
       "        9.06212775e-01, 4.14993891e-01, 7.29564258e-01, 9.63412615e-01,\n",
       "        4.79537302e-01, 1.16347350e-01, 6.09549205e-01, 5.74057674e-01],\n",
       "       [4.72952667e-02, 1.42370260e-01, 2.59445812e-01, 5.24182259e-01,\n",
       "        7.69724891e-01, 4.99595149e-01, 4.97111404e-01, 7.18736714e-01,\n",
       "        5.65464196e-01, 9.18701774e-01, 9.36321587e-01, 9.67610370e-01,\n",
       "        2.08922551e-02, 8.13923741e-01, 2.62765397e-01, 7.58131436e-01,\n",
       "        8.99156592e-01, 5.12132889e-01, 2.02785295e-01, 7.55794586e-01],\n",
       "       [1.59903668e-03, 4.99784455e-01, 1.19008466e-01, 6.17100604e-01,\n",
       "        2.01843070e-01, 2.36822833e-01, 5.04968477e-01, 9.51840726e-01,\n",
       "        5.96510768e-01, 7.26759356e-01, 2.51479570e-01, 4.90106916e-02,\n",
       "        6.73362106e-01, 2.44397034e-01, 4.66674609e-01, 4.52276476e-01,\n",
       "        6.49592601e-01, 6.29316099e-01, 5.78289459e-01, 9.21318497e-01],\n",
       "       [3.77770965e-01, 7.08110864e-01, 8.97263635e-01, 1.06650956e-01,\n",
       "        3.00934773e-01, 3.91760447e-01, 8.65731126e-01, 4.74331739e-01,\n",
       "        5.81798501e-01, 4.12352619e-01, 2.24227709e-01, 5.91218918e-01,\n",
       "        5.27670264e-01, 2.79796182e-02, 4.60088538e-02, 8.42635391e-01,\n",
       "        4.39526471e-02, 1.05295699e-01, 1.63293683e-01, 5.63823478e-02],\n",
       "       [9.09179661e-02, 1.42200487e-01, 1.89180526e-01, 2.64499359e-02,\n",
       "        5.18138470e-01, 2.50872000e-02, 6.54878366e-01, 9.16718321e-01,\n",
       "        8.26810752e-03, 6.42022909e-01, 6.02205618e-01, 8.03417596e-01,\n",
       "        3.33954733e-02, 7.18952960e-01, 5.55660632e-02, 4.33177451e-01,\n",
       "        7.63818580e-01, 8.51048033e-01, 6.59378682e-01, 9.27190915e-02],\n",
       "       [7.86864232e-01, 3.92193894e-01, 2.05291473e-01, 9.75216110e-01,\n",
       "        5.93297788e-01, 3.63132853e-01, 2.86694765e-01, 2.34357749e-01,\n",
       "        7.16479227e-01, 1.18341422e-01, 9.95951990e-01, 3.00480356e-01,\n",
       "        3.77725033e-01, 4.68876821e-01, 9.44199067e-01, 2.35113408e-01,\n",
       "        2.07774765e-02, 5.02289596e-01, 3.54228670e-01, 7.95872929e-01],\n",
       "       [6.04422286e-02, 5.09810581e-01, 6.63700219e-01, 7.18752331e-01,\n",
       "        8.78951227e-01, 2.94691590e-01, 2.80045979e-01, 7.91292313e-01,\n",
       "        8.12899048e-01, 7.20725272e-02, 8.99599086e-01, 9.35536408e-01,\n",
       "        2.24391236e-01, 8.26487822e-01, 8.62442741e-01, 2.76158159e-01,\n",
       "        9.47911639e-01, 4.33324344e-01, 2.70266526e-01, 9.97309479e-01],\n",
       "       [2.15710740e-01, 1.30658280e-01, 6.04852850e-01, 4.99026442e-01,\n",
       "        4.41235243e-02, 9.89370609e-01, 1.47065814e-01, 1.58040843e-01,\n",
       "        9.46305720e-01, 5.92721674e-01, 7.66914565e-01, 8.80752313e-02,\n",
       "        9.58989822e-01, 9.02939168e-01, 8.83904355e-01, 4.79946362e-01,\n",
       "        2.35848895e-01, 8.37319893e-01, 4.21089727e-01, 6.18112928e-01],\n",
       "       [1.68434204e-01, 1.51747578e-01, 5.56712745e-01, 8.56821224e-01,\n",
       "        2.89396790e-01, 2.67718285e-01, 8.37025534e-01, 1.82330692e-01,\n",
       "        7.53907367e-02, 6.73945312e-01, 9.36721329e-02, 8.23490585e-01,\n",
       "        8.09716173e-02, 4.16550975e-02, 5.73750956e-01, 2.22637009e-01,\n",
       "        7.30306889e-01, 3.02800355e-01, 7.59800101e-01, 7.59168578e-01],\n",
       "       [6.87930075e-01, 8.84586019e-01, 7.33900904e-01, 3.85450526e-01,\n",
       "        1.40331349e-01, 8.86961857e-01, 2.59387484e-01, 6.71493286e-01,\n",
       "        8.74654518e-01, 2.70708159e-01, 8.97117273e-01, 3.59006890e-01,\n",
       "        1.78965151e-01, 9.17275452e-01, 1.99856168e-01, 7.00490685e-01,\n",
       "        3.92022871e-01, 9.35437094e-01, 4.17939714e-01, 6.33363568e-01],\n",
       "       [7.07116095e-01, 6.49742915e-01, 3.67414420e-01, 5.61386003e-01,\n",
       "        6.72711939e-01, 2.00928291e-01, 9.19625023e-01, 2.62592547e-01,\n",
       "        9.30615077e-01, 3.98537621e-01, 9.64016234e-01, 6.03307557e-01,\n",
       "        6.01397017e-01, 5.97646550e-01, 9.49290863e-01, 2.79820196e-01,\n",
       "        4.28708862e-01, 3.67104791e-01, 9.25173393e-03, 1.33856048e-01],\n",
       "       [7.95116202e-01, 1.91605904e-01, 4.99374609e-01, 1.52149759e-01,\n",
       "        2.73781428e-01, 3.56987662e-02, 2.03334945e-01, 2.61631728e-01,\n",
       "        7.08285465e-01, 6.29555351e-01, 3.03578208e-01, 7.68617896e-01,\n",
       "        3.74002841e-01, 7.90618247e-01, 6.58582234e-01, 4.24637075e-01,\n",
       "        6.96262751e-01, 1.31483288e-01, 6.55669065e-02, 8.59770254e-01],\n",
       "       [3.76819884e-01, 9.12173290e-01, 3.36337510e-01, 9.64958066e-01,\n",
       "        5.88526571e-01, 7.45536010e-01, 9.43585868e-01, 1.18701138e-01,\n",
       "        4.63344881e-01, 5.33590622e-01, 4.76378447e-02, 6.54092766e-01,\n",
       "        1.43388455e-01, 8.22689994e-01, 6.02149175e-01, 8.41862801e-01,\n",
       "        9.05036543e-01, 6.68373985e-01, 3.49642446e-01, 1.69875404e-01],\n",
       "       [5.75438624e-01, 1.09803734e-01, 4.40521758e-04, 3.92878925e-01,\n",
       "        7.03089620e-01, 8.54236679e-01, 1.10539075e-01, 4.41855720e-01,\n",
       "        2.75935385e-01, 5.47866048e-01, 3.61535492e-01, 1.23561133e-01,\n",
       "        3.40577290e-01, 2.89469116e-01, 9.33253243e-01, 6.55794273e-01,\n",
       "        6.05393058e-01, 2.82835889e-01, 1.99736647e-01, 8.39010152e-01],\n",
       "       [1.51419317e-01, 4.06678536e-01, 1.11206222e-01, 3.37047310e-01,\n",
       "        4.34660646e-01, 7.49115301e-01, 5.83530893e-01, 6.65131139e-01,\n",
       "        9.46389975e-01, 5.85544211e-01, 5.50933416e-01, 8.32063210e-01,\n",
       "        7.77125232e-02, 9.96483891e-01, 3.88694246e-01, 6.59132328e-01,\n",
       "        9.45961106e-01, 4.07207755e-01, 8.97978710e-02, 1.57390496e-01],\n",
       "       [3.60263440e-01, 9.77737996e-01, 8.24323605e-01, 3.89873801e-01,\n",
       "        1.13073831e-01, 4.15838181e-01, 1.37576733e-01, 3.28792213e-01,\n",
       "        4.50882875e-01, 4.84516929e-01, 9.41323623e-01, 9.25043809e-01,\n",
       "        3.80404561e-01, 9.70370360e-01, 4.16957686e-01, 6.54647959e-01,\n",
       "        3.18512345e-01, 5.66922869e-01, 3.01085980e-03, 5.84229827e-01],\n",
       "       [4.74164910e-01, 7.67349279e-01, 2.10902180e-01, 5.48469756e-01,\n",
       "        2.80288421e-01, 2.72364642e-01, 8.69712881e-01, 6.35207213e-01,\n",
       "        9.42868240e-01, 8.46410049e-01, 5.94692411e-01, 9.46746656e-02,\n",
       "        8.01871343e-01, 7.05890202e-01, 2.99735556e-01, 5.31362625e-02,\n",
       "        1.01190587e-01, 2.99521446e-02, 3.88932039e-01, 7.03948633e-01],\n",
       "       [7.14210494e-01, 7.44692522e-01, 4.27567303e-01, 8.63322325e-01,\n",
       "        9.51466697e-02, 1.20737232e-01, 3.64592111e-01, 5.38901900e-01,\n",
       "        2.45131983e-01, 6.86041009e-01, 8.15950807e-02, 9.34970914e-01,\n",
       "        1.94257506e-01, 9.65457733e-01, 3.79973881e-01, 6.68077220e-01,\n",
       "        1.24252605e-01, 9.06203349e-01, 3.61155705e-02, 6.90002988e-01],\n",
       "       [1.36206931e-01, 2.55408358e-01, 7.87149166e-01, 4.74871822e-01,\n",
       "        1.81842015e-01, 4.71714457e-01, 3.47008334e-02, 1.22636914e-01,\n",
       "        3.67592192e-01, 5.75064117e-01, 1.61392360e-01, 7.99635496e-01,\n",
       "        2.88597589e-01, 9.16451031e-01, 1.75538411e-01, 8.41223656e-02,\n",
       "        6.36857039e-01, 9.86097524e-01, 9.60011429e-01, 5.32038599e-01],\n",
       "       [7.88089599e-01, 4.56709452e-01, 7.58814581e-01, 4.91088599e-01,\n",
       "        5.07960681e-01, 4.47621033e-01, 3.02668173e-01, 1.19512065e-01,\n",
       "        1.11902734e-01, 3.85584016e-01, 2.57228519e-01, 7.94036705e-01,\n",
       "        8.06608726e-01, 2.99773915e-01, 9.29081007e-01, 4.45322304e-01,\n",
       "        5.41768716e-01, 6.27738625e-01, 8.20303802e-02, 5.94601498e-01]])"
      ]
     },
     "execution_count": 2,
     "metadata": {},
     "output_type": "execute_result"
    }
   ],
   "source": [
    "N = 20\n",
    "random_0 = np.random.random((N,N))"
   ]
  },
  {
   "cell_type": "markdown",
   "metadata": {},
   "source": [
    "We then visualize the lattice. We make a new matrix $\\tt lattice0$ and assign the entries of $\\tt random0$ as the spin values -1 (down) and 1 (up). The entry is 1 when it is above 0.5, and -1 otherwise. Afterwards, let us calculate the total magnetization of the lattice using $M = \\sum_i s_i$."
   ]
  },
  {
   "cell_type": "code",
   "execution_count": 108,
   "metadata": {},
   "outputs": [
    {
     "data": {
      "text/plain": [
       "-10.0"
      ]
     },
     "execution_count": 108,
     "metadata": {},
     "output_type": "execute_result"
    }
   ],
   "source": [
    "lattice_0 = np.zeros((N,N))\n",
    "lattice_0[random_0 > 0.50] = 1\n",
    "lattice_0[random_0 <= 0.50] = -1\n",
    "lattice_0.sum()"
   ]
  },
  {
   "cell_type": "markdown",
   "metadata": {},
   "source": [
    "We see here that $M=-10$ which indicates that we roughly have the same number of up and down spins. Let us then visualize this lattice."
   ]
  },
  {
   "cell_type": "code",
   "execution_count": 109,
   "metadata": {},
   "outputs": [
    {
     "data": {
      "text/plain": [
       "<matplotlib.image.AxesImage at 0x17280069ee0>"
      ]
     },
     "execution_count": 109,
     "metadata": {},
     "output_type": "execute_result"
    },
    {
     "data": {
      "image/png": "[encoded data removed]",
      "text/plain": [
       "<Figure size 432x288 with 1 Axes>"
      ]
     },
     "metadata": {
      "needs_background": "light"
     },
     "output_type": "display_data"
    }
   ],
   "source": [
    "plt.imshow(lattice_0)"
   ]
  },
  {
   "cell_type": "markdown",
   "metadata": {},
   "source": [
    "In this figure, the yellow pixels indicate entries with a top spin, while the purple pixels indicate a bottom spin.\\\n",
    "\n",
    "Let us make a function $\\tt total\\_energy()$ that calculates the total energy of the system. Again, the formula is indicated as\n",
    "$$ E = -J \\sum_{\\langle ij \\rangle} s_i s_j,$$\n",
    "where $s_i$ and $s_j$ are adjacent pair of spins. This can be easily implemented as:\n",
    "$$ \n",
    "E = -J \n",
    "\\left(\\sum_{i=2}^{N}\\sum_{j=1}^{N}s_{ij}s_{(i-1)j}\\right)_{(top)}\n",
    "\\left(\\sum_{i=1}^{N-1}\\sum_{j=1}^{N}s_{ij}s_{(i+1)j}\\right)_{(bot)}  \n",
    "\\left(\\sum_{i=1}^{N}\\sum_{j=2}^{N}s_{ij}s_{i(j-1)}\\right)_{(left)}\n",
    "\\left(\\sum_{i=1}^{N}\\sum_{j=1}^{N-1}s_{ij}s_{i(j+1)}\\right)_{(right)} \n",
    "$$\n",
    "Where the top summation of top pairs having a start bound of $i=2,j=1$, the summation of bottom pairs having an end bound of $i=19, j=20$, the summation of left pairs having a start bound of $i=1, j=2$, and the summation of right pairs having an end bound of $i=20, j=19$."
   ]
  },
  {
   "cell_type": "code",
   "execution_count": 38,
   "metadata": {},
   "outputs": [],
   "source": [
    "@jit(nopython=True, parallel=True)\n",
    "def total_energy(lattice, J):\n",
    "    lattice_copy = np.copy(lattice)\n",
    "    energy_0 = 0\n",
    "    mu_top = 0 # top pair\n",
    "    mu_bot = 0 # bottom pair\n",
    "    mu_left = 0 # left pair\n",
    "    mu_right = 0 # right pair\n",
    "    mu_total = 0 # total adjacent interactions for each entry\n",
    "    for i in range(N):\n",
    "        for j in range(N):\n",
    "            if i > 0: \n",
    "                mu_top = lattice_copy[i][j]*lattice_copy[i-1][j] # top summation\n",
    "            if i < 19:     \n",
    "                mu_bot = lattice_copy[i][j]*lattice_copy[i+1][j] # bottom summation\n",
    "            if j > 0:    \n",
    "                mu_left = lattice_copy[i][j]*lattice_copy[i][j-1] # left summation\n",
    "            if j < 19:\n",
    "                mu_right = lattice_copy[i][j]*lattice_copy[i][j+1] # right summation\n",
    "            mu_total = mu_top + mu_bot + mu_left + mu_right\n",
    "            energy_0 += mu_total\n",
    "    energy_0 = -J*energy_0 # interactions multiplied by energy J\n",
    "    return energy_0"
   ]
  },
  {
   "cell_type": "markdown",
   "metadata": {},
   "source": [
    "Next, we create the $\\tt metropolis()$ function that randomly tries to pick any spin and flips it to see if it would get the system closer to polarization. This function depends on the initial lattice, interaction constant $J$, temperature $T$, and the number of time steps. We note that the Metropolis acceptance formula is described as:\n",
    "$$\n",
    "P_{a} = \\begin{cases}\n",
    "    1 & E_{j} \\leq E_{i} \\\\\n",
    "    \\exp(-\\beta E_{j}-E_{i}) & E_{j} > E_{i}\n",
    "\\end{cases}\n",
    "$$\n",
    "Here, $P_a$ is the probability that we accept the flipping of a spin. $E_i$ is the initial energy of the lattice, while $E_j$ is the energy after the flipping of a spin was made. We also define the constant $\\beta = J/T$. \\\n",
    "If $E_{j} \\leq E_{i}$, we absolutely accept the flip, effectively changing the lattice. Otherwise, we may or may not accept the flip in accordance to $\\exp(-\\beta E_{j}-E_{i})$."
   ]
  },
  {
   "cell_type": "code",
   "execution_count": 87,
   "metadata": {},
   "outputs": [],
   "source": [
    "@jit(nopython=True, parallel=True)\n",
    "def metropolis(lattice, J, T, time):\n",
    "    magnet_total = [] # array for total magnetization for each time step\n",
    "    lattice_copy = np.copy(lattice)\n",
    "    beta = J/T\n",
    "    for t in range(time-1):\n",
    "        # Calculate initial energy\n",
    "        Ei = total_energy(lattice_copy, J)\n",
    "        # Pick random spin\n",
    "        x1 = np.random.randint(0,N)\n",
    "        y1 = np.random.randint(0,N)\n",
    "        lattice_copy[x1][y1] = -lattice_copy[x1][y1]\n",
    "        # Calculate new energy\n",
    "        Ef = total_energy(lattice_copy, J)\n",
    "        # Metropolis algorithm\n",
    "        dE = Ef - Ei\n",
    "        if dE <= 0:\n",
    "            magnet_total.append(lattice_copy.sum())\n",
    "        else:\n",
    "            if np.random.random() < np.exp(-beta*dE):\n",
    "                magnet_total.append(lattice_copy.sum())\n",
    "            else:\n",
    "                lattice_copy[x1][y1] = -lattice_copy[x1][y1]\n",
    "                magnet_total.append(lattice_copy.sum())\n",
    "    return magnet_total, lattice_copy"
   ]
  },
  {
   "cell_type": "markdown",
   "metadata": {},
   "source": [
    "We perform this function by storing it in $\\tt magnet\\_total\\_0$. We then plot its corresponding magnetization through time and its latest lattice structure. We define $J=1, T=1$ and do 1 million flips."
   ]
  },
  {
   "cell_type": "code",
   "execution_count": 88,
   "metadata": {},
   "outputs": [],
   "source": [
    "magnet_total_0 = metropolis(lattice_0, 1, 1, 1000000)"
   ]
  },
  {
   "cell_type": "code",
   "execution_count": 89,
   "metadata": {},
   "outputs": [
    {
     "data": {
      "image/png": "[encoded data removed]",
      "text/plain": [
       "<Figure size 432x288 with 1 Axes>"
      ]
     },
     "metadata": {
      "needs_background": "light"
     },
     "output_type": "display_data"
    }
   ],
   "source": [
    "plt.plot(magnet_total_0[0])\n",
    "plt.title('Total Magnetization of the 20x20 Square Lattice System Through Time')\n",
    "plt.xlabel('Time Steps')\n",
    "plt.ylabel('Magnetization ($\\sum_{i}s_i$)')\n",
    "plt.show()"
   ]
  },
  {
   "cell_type": "code",
   "execution_count": 90,
   "metadata": {},
   "outputs": [
    {
     "data": {
      "text/plain": [
       "<matplotlib.image.AxesImage at 0x172bd5bc940>"
      ]
     },
     "execution_count": 90,
     "metadata": {},
     "output_type": "execute_result"
    },
    {
     "data": {
      "image/png": "[encoded data removed]",
      "text/plain": [
       "<Figure size 432x288 with 1 Axes>"
      ]
     },
     "metadata": {
      "needs_background": "light"
     },
     "output_type": "display_data"
    }
   ],
   "source": [
    "plt.imshow(magnet_total_0[1])"
   ]
  },
  {
   "cell_type": "markdown",
   "metadata": {},
   "source": [
    "We see here that the lattice is almost negatively polarized, with its magnetization close to -400. \\\n",
    "Let us then test this function again with the same arguments."
   ]
  },
  {
   "cell_type": "code",
   "execution_count": 93,
   "metadata": {},
   "outputs": [],
   "source": [
    "magnet_total_0 = metropolis(lattice_0, 1, 1, 1000000)"
   ]
  },
  {
   "cell_type": "code",
   "execution_count": 94,
   "metadata": {},
   "outputs": [
    {
     "data": {
      "image/png": "[encoded data removed]",
      "text/plain": [
       "<Figure size 432x288 with 1 Axes>"
      ]
     },
     "metadata": {
      "needs_background": "light"
     },
     "output_type": "display_data"
    }
   ],
   "source": [
    "plt.plot(magnet_total_0[0])\n",
    "plt.title('Total Magnetization of the 20x20 Square Lattice System Through Time')\n",
    "plt.xlabel('Time Steps')\n",
    "plt.ylabel('Magnetization ($\\sum_{i}s_i$)')\n",
    "plt.show()"
   ]
  },
  {
   "cell_type": "code",
   "execution_count": 95,
   "metadata": {},
   "outputs": [
    {
     "data": {
      "text/plain": [
       "<matplotlib.image.AxesImage at 0x172b8e8a4c0>"
      ]
     },
     "execution_count": 95,
     "metadata": {},
     "output_type": "execute_result"
    },
    {
     "data": {
      "image/png": "[encoded data removed]",
      "text/plain": [
       "<Figure size 432x288 with 1 Axes>"
      ]
     },
     "metadata": {
      "needs_background": "light"
     },
     "output_type": "display_data"
    }
   ],
   "source": [
    "plt.imshow(magnet_total_0[1])"
   ]
  },
  {
   "cell_type": "markdown",
   "metadata": {},
   "source": [
    "In the line chart, we see the lattice is completely positively polarized through time. This is also shown in the lattice mapping where we almost see no yellow pixels. \\\n",
    "Let us then try this with varying temperatures $T = [1,2,3,4,5]$. We will plot both their magnetization and lattice color map. "
   ]
  },
  {
   "cell_type": "code",
   "execution_count": 96,
   "metadata": {},
   "outputs": [],
   "source": [
    "magnet_total_1 = metropolis(lattice_0, 1, 1, 1000000)\n",
    "magnet_total_2 = metropolis(lattice_0, 1, 2, 1000000)\n",
    "magnet_total_3 = metropolis(lattice_0, 1, 3, 1000000)\n",
    "magnet_total_4 = metropolis(lattice_0, 1, 4, 1000000)\n",
    "magnet_total_5 = metropolis(lattice_0, 1, 5, 1000000)"
   ]
  },
  {
   "cell_type": "code",
   "execution_count": 97,
   "metadata": {},
   "outputs": [
    {
     "name": "stderr",
     "output_type": "stream",
     "text": [
      "C:\\ProgramData\\Anaconda3\\lib\\site-packages\\IPython\\core\\pylabtools.py:132: UserWarning: Creating legend with loc=\"best\" can be slow with large amounts of data.\n",
      "  fig.canvas.print_figure(bytes_io, **kw)\n"
     ]
    },
    {
     "data": {
      "image/png": "[encoded data removed]",
      "text/plain": [
       "<Figure size 432x288 with 1 Axes>"
      ]
     },
     "metadata": {
      "needs_background": "light"
     },
     "output_type": "display_data"
    }
   ],
   "source": [
    "plt.plot(magnet_total_1[0], label='T=1', alpha=1)\n",
    "plt.plot(magnet_total_2[0], label='T=2', alpha=0.9)\n",
    "plt.plot(magnet_total_3[0], label='T=3', alpha=0.8)\n",
    "plt.plot(magnet_total_4[0], label='T=4', alpha=0.7)\n",
    "plt.plot(magnet_total_5[0], label='T=5', alpha=0.6)\n",
    "plt.legend()\n",
    "plt.title('Total Magnetization of the 20x20 Square Lattice System Through Time')\n",
    "plt.xlabel('Time Steps')\n",
    "plt.ylabel('Magnetization ($\\sum_{i}s_i$)')\n",
    "plt.show()"
   ]
  },
  {
   "cell_type": "markdown",
   "metadata": {},
   "source": [
    "We see here that the magnetization of the lattice at $T=1$ and $T=2$ are staying in equilibrium well while at $T=3$, the lattice starts to struggle in maintaining equilibrium of complete polarization. At $T=4$, it touches -400 some time in a while. Finally, at $T=5$ the lattice entries spin chaotically, with it strugging to institute equilibrium at the extreme polarization vales."
   ]
  },
  {
   "cell_type": "code",
   "execution_count": 107,
   "metadata": {},
   "outputs": [
    {
     "data": {
      "image/png": "[encoded data removed]",
      "text/plain": [
       "<Figure size 1080x216 with 5 Axes>"
      ]
     },
     "metadata": {
      "needs_background": "light"
     },
     "output_type": "display_data"
    }
   ],
   "source": [
    "fig, ax = plt.subplots(1,5, figsize=(15,3))\n",
    "ax[0].imshow(magnet_total_1[1])\n",
    "ax[0].set_title('T=1')\n",
    "ax[1].imshow(magnet_total_2[1])\n",
    "ax[1].set_title('T=2')\n",
    "ax[2].imshow(magnet_total_3[1])\n",
    "ax[2].set_title('T=3')\n",
    "ax[3].imshow(magnet_total_4[1])\n",
    "ax[3].set_title('T=4')\n",
    "ax[4].imshow(magnet_total_5[1])\n",
    "ax[4].set_title('T=5')\n",
    "plt.show()"
   ]
  },
  {
   "cell_type": "markdown",
   "metadata": {},
   "source": [
    "This is also manifested in the final lattice structure. We can infer that the lattice are polarized in $T=[1,2,3]$ while it struggles to maintain polarization at $T=[4,5]$."
   ]
  },
  {
   "cell_type": "markdown",
   "metadata": {},
   "source": [
    "The Metropolis algorithm helps the system achieve equilibrium using the acceptance probability. It accepts spin flip changes if there is a difference in lower energy and conditionally accepts spin flip changes otherwise. This conditionality stems from how random would the condition be found inside $\\exp(-\\beta E_{j}-E_{i})$ which resembles a Boltzmann distribution.\\\n",
    "\\\n",
    "The algorithm spends most of its time figuring out if changes in higher energy respect the distribution, and if such changes would say, flip into more down spins, it draws into that configuration. Eventually, when almost all spins are the same, the interactions would be the same each time step, hence there is lesser energy difference. This system therefore would reach equilibrium.\\\n",
    "\\\n",
    "When we increase the temperature of the system, the probability distribution flattens, and it would be hard for the algorithm to check if the spin flips would still respect the distribution. Hence in the cases of $T=4$ and $T=5$, the system is not polarized fully. Hence if we keep on increasing the temperature, the lattice would lose its ability to magnetize."
   ]
  }
 ],
 "metadata": {
  "colab": {
   "provenance": [
    {
     "file_id": "1FJlZnhC4nq-8ag5P6s8R5x9AryccJwSV",
     "timestamp": 1598775074680
    }
   ]
  },
  "kernelspec": {
   "display_name": "Python 3 (ipykernel)",
   "language": "python",
   "name": "python3"
  },
  "language_info": {
   "codemirror_mode": {
    "name": "ipython",
    "version": 3
   },
   "file_extension": ".py",
   "mimetype": "text/x-python",
   "name": "python",
   "nbconvert_exporter": "python",
   "pygments_lexer": "ipython3",
   "version": "3.9.12"
  },
  "toc": {
   "base_numbering": 1,
   "nav_menu": {},
   "number_sections": true,
   "sideBar": true,
   "skip_h1_title": false,
   "title_cell": "Table of Contents",
   "title_sidebar": "Contents",
   "toc_cell": false,
   "toc_position": {},
   "toc_section_display": true,
   "toc_window_display": false
  },
  "varInspector": {
   "cols": {
    "lenName": 16,
    "lenType": 16,
    "lenVar": 40
   },
   "kernels_config": {
    "python": {
     "delete_cmd_postfix": "",
     "delete_cmd_prefix": "del ",
     "library": "var_list.py",
     "varRefreshCmd": "print(var_dic_list())"
    },
    "r": {
     "delete_cmd_postfix": ") ",
     "delete_cmd_prefix": "rm(",
     "library": "var_list.r",
     "varRefreshCmd": "cat(var_dic_list()) "
    }
   },
   "types_to_exclude": [
    "module",
    "function",
    "builtin_function_or_method",
    "instance",
    "_Feature"
   ],
   "window_display": false
  }
 },
 "nbformat": 4,
 "nbformat_minor": 1
}
