{
 "cells": [
  {
   "cell_type": "markdown",
   "metadata": {
    "id": "G0BcK0H_G1Iu"
   },
   "source": [
    "# **AP155 Lab Assignment**\n",
    "## Module 1: Integrals and Derivatives\n",
    "\n",
    "_Instructions_: Answer each problem as completely as you can. Discuss **all** your answers as clearly and concisely as possible.\n",
    "\n",
    "_Scoring Criteria_: 50% - *correctness of code*; 50% - *discussion of the code and results*. Maximum score is **100 points**.\n",
    "\n",
    "\n"
   ]
  },
  {
   "cell_type": "markdown",
   "metadata": {
    "id": "PeHZ9kP8JaVR"
   },
   "source": [
    "### Student Information\n",
    "\n",
    "_Name_: Soldevilla, Thoreenz\\\n",
    "_Student Number_: 2021-04225\\\n",
    "_Section_: THU-HX-1"
   ]
  },
  {
   "cell_type": "markdown",
   "metadata": {
    "id": "Hc183co-J4eI"
   },
   "source": [
    "### Submission Information\n",
    "\n",
    "_Date and Time Submitted (most recent upload)_: October 26, 2023, 1:10 PM\n",
    "\n",
    "**HONOR PLEDGE** I affirm that I have upheld the highest principles of honesty and integrity in my academic work and that this lab assignment is my own work.\n",
    "\n",
    "**Sign here with your full name:** Thoreenz Soldevilla"
   ]
  },
  {
   "cell_type": "markdown",
   "metadata": {
    "id": "X1UGsRpW-eQs"
   },
   "source": [
    "### Grading Information (c/o Lab Instructor)\n",
    "\n",
    "TOTAL SCORE: **XX**/100\n",
    "\n",
    "Score breakdown:\n",
    "* Problem 1 - 28/30\n",
    "* Problem 2 - 28/30\n",
    "* Problem 3 - XX/40\n",
    "\n",
    "_Date and Time Scored (MM/DD/YYYY HH:MM AM/PM):_"
   ]
  },
  {
   "cell_type": "markdown",
   "metadata": {
    "id": "LxWuqiCFMsEh"
   },
   "source": [
    "### PROBLEM 1\n",
    "**Integration using the trapezoidal rule and Simpson's rule**\n",
    "\n",
    "Calculate the integral of the function $ 2x^4 + 3x^2 + 4x + 5$ from $x=0$ to $x=5$.\n",
    "\n",
    "1. Do the numerical calculation using the trapezoidal rule with 10, 100, and 1,000 slices. Describe each step of the calculation clearly and concisely. *(10 pts.)*\n",
    "\n",
    "2. What are the percentage errors of your answers in (1)? *(10 pts.)*\n",
    "\n",
    "3. Repeat the calculation using Simpson's rule with 10, 100, and 1,000 slices. Describe each step of the calculation clearly and concisely. *(5 pts.)*\n",
    "\n",
    "4. What are the percentage errors of your answers in (3)? How do they compare with the results from (1) for the same number of slices? *(5 pts.)*"
   ]
  },
  {
   "cell_type": "code",
   "execution_count": 1,
   "metadata": {
    "ExecuteTime": {
     "end_time": "2023-11-08T08:07:15.990715Z",
     "start_time": "2023-11-08T08:07:15.534583Z"
    }
   },
   "outputs": [],
   "source": [
    "import numpy as np\n",
    "import matplotlib.pyplot as plt"
   ]
  },
  {
   "cell_type": "markdown",
   "metadata": {},
   "source": [
    "**Part A: Trapezoidal Rule**\\\n",
    "The trapezoidal rule is defined as:\n",
    "\n",
    "$$I(a,b) \\simeq h[\\frac{1}{2}f(a)+\\frac{1}{2}f(b)+\\sum_{k=1}^{N-1}f(a+kh)]$$\n",
    "\n",
    "Where:\n",
    "$h$ is the width of the slice,\n",
    "$a$ is the lower bound of the integral,\n",
    "$b$ is the upper bound of the integral, and\n",
    "$k$ is the iteration of slices.\n",
    "\n",
    "First, we define the function int_trap() that takes the values of the integrand $f$, the lower bound $a$, the upper bound $b$, and the number of points $N$. "
   ]
  },
  {
   "cell_type": "code",
   "execution_count": 2,
   "metadata": {
    "ExecuteTime": {
     "end_time": "2023-11-08T08:07:15.997097Z",
     "start_time": "2023-11-08T08:07:15.994662Z"
    },
    "id": "hMqWOsbIMoUh"
   },
   "outputs": [],
   "source": [
    "def int_trap(f, a, b, N, **kwargs): \n",
    "    eval_x = np.linspace(a, b, N) \n",
    "    # The linspace() function provides us a set of points that are evenly spaced within an interval.\n",
    "    # We see that it provides evenly spaced N numbers from a to b.\n",
    "    y = f(eval_x, **kwargs)\n",
    "    # We evaluate each function using the points defined. The **kwargs is necessary as it allows us to input\n",
    "    # Multiple values on a single line such as lists or numpy arrays.\n",
    "    h = eval_x[1] - eval_x[0]\n",
    "    # We measure the width (h) from two consecutive points.\n",
    "    area = h*(np.sum(y)-0.5*y[0]-0.5*y[-1])\n",
    "    # We then multiply the width with the evaluated lower bound y[0], upper bound y[-1], and the sum of the points.\n",
    "    return area"
   ]
  },
  {
   "cell_type": "code",
   "execution_count": 3,
   "metadata": {
    "ExecuteTime": {
     "end_time": "2023-11-08T08:07:16.156837Z",
     "start_time": "2023-11-08T08:07:16.150943Z"
    },
    "scrolled": true
   },
   "outputs": [],
   "source": [
    "# We define the integrand.\n",
    "def f_1(x):\n",
    "    return 2*x**4+3*x**2+4*x+5\n",
    "# We then evaluate int_trap with N = [10, 100, 1000] slices.\n",
    "ans_trap_10 = int_trap(f_1, 0, 5, 10)\n",
    "ans_trap_100 = int_trap(f_1, 0, 5, 100)\n",
    "ans_trap_1000 = int_trap(f_1, 0, 5, 1000)"
   ]
  },
  {
   "cell_type": "markdown",
   "metadata": {},
   "source": [
    "Let us see how accurate the trapezoidal rule is when we solve for the error. Note that the solution to the integral equation is\n",
    "$$\\int_{0}^{5}(2x^4 + 3x^2 + 4x + 5)dx = 1450$$"
   ]
  },
  {
   "cell_type": "code",
   "execution_count": 4,
   "metadata": {
    "ExecuteTime": {
     "end_time": "2023-11-08T08:07:16.827737Z",
     "start_time": "2023-11-08T08:07:16.819549Z"
    }
   },
   "outputs": [],
   "source": [
    "# We define the percent error as pct_error that takes comp_ans as the computed value and theo_ans as the theoretical value.\n",
    "def pct_error(comp_ans, theo_ans):\n",
    "    return abs((comp_ans-theo_ans)/theo_ans)"
   ]
  },
  {
   "cell_type": "code",
   "execution_count": 5,
   "metadata": {
    "ExecuteTime": {
     "end_time": "2023-11-08T08:07:17.204680Z",
     "start_time": "2023-11-08T08:07:17.198128Z"
    }
   },
   "outputs": [
    {
     "name": "stdout",
     "output_type": "stream",
     "text": [
      "Answer is: 1476.4600162576846 with an error of: 0.018248287074265263\n",
      "Answer is: 1450.2189380754005 with an error of: 0.0001509917761382769\n",
      "Answer is: 1450.002150131237 with an error of: 1.4828491289179134e-06\n"
     ]
    }
   ],
   "source": [
    "# We then compare the evaluated integral with their respective percent errors.\n",
    "print('Answer is:',ans_trap_10,'with an error of:',pct_error(ans_trap_10, 1450))\n",
    "print('Answer is:',ans_trap_100,'with an error of:',pct_error(ans_trap_100, 1450))\n",
    "print('Answer is:',ans_trap_1000,'with an error of:',pct_error(ans_trap_1000, 1450))"
   ]
  },
  {
   "cell_type": "markdown",
   "metadata": {},
   "source": [
    "Note that as we increase $N$, the calculated value gets closer to the theoretical value. We could say that we are defining the int_trap() correctly because as we scale the slices by a factor of 10, the error scales by a factor of $10^2$. This is because the trapezoidal rule is a first-order integration rule that is accurate to $\\mathcal{O}(h)$ and has an error of $\\mathcal{O}(h^2)$."
   ]
  },
  {
   "cell_type": "markdown",
   "metadata": {},
   "source": [
    "**Part B: Simpson's Rule**\\\n",
    "We then define Simpson's rule. It is described as:\n",
    "$$I(a,b)\\simeq\\frac{1}{3}h[f(a)+f(b)+4\\sum_{k=1 (odd)}^{N-1}+2\\sum_{k=2 (even)}^{N-2}f(a+kh)]$$\n",
    "Where we multiply the width $h$ with the initial value of $s$ at the upper and lower bounds and the summation of loop over odd and even values of $k$, the iteration of quartic slices.\n",
    "We can implement the summations as iterative loops.\n",
    "\n",
    "Let us define int_simp() that takes the integrand $f$, the lower bound $a$, upper bound $b$, and the number of slices $N$."
   ]
  },
  {
   "cell_type": "code",
   "execution_count": 6,
   "metadata": {
    "ExecuteTime": {
     "end_time": "2023-11-08T08:07:17.981932Z",
     "start_time": "2023-11-08T08:07:17.972564Z"
    }
   },
   "outputs": [],
   "source": [
    "def int_simp(f, a, b, N):\n",
    "    # We measure h by dividing the width from b to a and divide by N.\n",
    "    h = (b-a)/N\n",
    "    # We obtain the initial values of the function from the bounds.\n",
    "    s = f(a) + f(b)\n",
    "    # We then obtain the odd values of k. We define the range from 1 to N and the step as 2. Each iteration adds to the \n",
    "    # initial value s.\n",
    "    for k in range(1,N,2):\n",
    "        s += 4*f(a+k*h)\n",
    "    # Next, we obtain the even values of k, similar to the previous summation. \n",
    "    # We define the range from 2 to N and the step as 2.\n",
    "    for k in range(2,N,2):\n",
    "        s += 2*f(a+k*h)\n",
    "    s = s*(1/3)*h\n",
    "    return s"
   ]
  },
  {
   "cell_type": "code",
   "execution_count": 7,
   "metadata": {
    "ExecuteTime": {
     "end_time": "2023-11-08T08:07:18.348844Z",
     "start_time": "2023-11-08T08:07:18.339396Z"
    }
   },
   "outputs": [
    {
     "name": "stdout",
     "output_type": "stream",
     "text": [
      "Answer is: 1450.0833333333333 with an error of: 5.7471264367763824e-05\n",
      "Answer is: 1450.0000083333337 with an error of: 5.747126657485657e-09\n",
      "Answer is: 1450.0000000008342 with an error of: 5.753338035870472e-13\n"
     ]
    }
   ],
   "source": [
    "# We store the scaled N values then print them along with their deviation to the theoretical value.\n",
    "ans_simp_10 = int_simp(f_1, 0, 5, 10)\n",
    "ans_simp_100 = int_simp(f_1, 0, 5, 100)\n",
    "ans_simp_1000 = int_simp(f_1, 0, 5, 1000)\n",
    "print('Answer is:',ans_simp_10,'with an error of:',pct_error(ans_simp_10, 1450))\n",
    "print('Answer is:',ans_simp_100,'with an error of:',pct_error(ans_simp_100, 1450))\n",
    "print('Answer is:',ans_simp_1000,'with an error of:',pct_error(ans_simp_1000, 1450))"
   ]
  },
  {
   "cell_type": "markdown",
   "metadata": {},
   "source": [
    "We see here that as we scale $N$ by a factor of 10, the error scales by a factor of $10^4$. Note that the Simpson's rule is a third-order integration rule which is accurate by $\\mathcal{O}(h^3)$ and has an error of $\\mathcal{O}(h^4)$. We could then conclude that we are implementing int_simp() properly."
   ]
  },
  {
   "cell_type": "markdown",
   "metadata": {},
   "source": [
    "----------------\n",
    "### Instructor Notes"
   ]
  },
  {
   "cell_type": "code",
   "execution_count": 14,
   "metadata": {
    "ExecuteTime": {
     "end_time": "2023-11-08T08:12:03.281411Z",
     "start_time": "2023-11-08T08:12:03.271882Z"
    }
   },
   "outputs": [
    {
     "name": "stdout",
     "output_type": "stream",
     "text": [
      "The exact answer is 1450\n"
     ]
    }
   ],
   "source": [
    "# You might want to explicitly add an exact answer calculation on your code\n",
    "\n",
    "def myfunc1(x):\n",
    "  return 2*x**4 + 3*x**2 + 4*x + 5\n",
    "\n",
    "def myfunc1_int(x):\n",
    "  return (2./5)*x**5 + x**3 + 2*x**2 + 5*x \n",
    "\n",
    "ans_exact = myfunc1_int(5)\n",
    "print(\"The exact answer is %d\" % ans_exact)"
   ]
  },
  {
   "cell_type": "markdown",
   "metadata": {},
   "source": [
    "---"
   ]
  },
  {
   "cell_type": "markdown",
   "metadata": {
    "id": "m2a6sg90R-NX"
   },
   "source": [
    "### PROBLEM 2\n",
    "\n",
    "**Integration using Gaussian quadrature**\n",
    "\n",
    "Calculate the integral from Problem 1 using the Gaussian quadrature method: $ 2x^4 + 3x^2 + 4x + 5$ from $x=0$ to $x=5$.\n",
    "\n",
    "1. Define the function $\\tt gaussxw$ from Appendix E of the Newman text (and run the cell). *(10 pts.)*\n",
    "\n",
    "2. Calculate the integral using the $\\tt gaussxw$ function in (1) and number of slices $N = 3$. Describe each step in the calculation clearly and concisely. *(20 pts.)*"
   ]
  },
  {
   "cell_type": "markdown",
   "metadata": {},
   "source": [
    "Gaussian Integration can be done using the Newton-Cotes formula, where:\n",
    "$$I(a,b)\\simeq\\sum_{k=1}^{N}w_{k}f(x_{k})$$\n",
    "Where we multiply sample points with a certain weight, which we define as:\n",
    "$$w_{k}=\\int_{a}^{b}\\phi_{k}(x)dx$$\n",
    "Here, $\\phi$ represents the interpolating polynomial. The Gaussian quadrature uses the Legendre polynomial to determine the sample points and weights."
   ]
  },
  {
   "cell_type": "code",
   "execution_count": 11,
   "metadata": {
    "ExecuteTime": {
     "end_time": "2023-11-08T08:09:25.160649Z",
     "start_time": "2023-11-08T08:09:25.145169Z"
    },
    "id": "YO_PDJ4VIVs5"
   },
   "outputs": [],
   "source": [
    "#Here is the function gaussxw() obtained from the Newman book\n",
    "def gaussxw(f, N):\n",
    "    # Initial approximation to roots of the legendre polynomial\n",
    "    a = np.linspace(3,4*N-1,N)/(4*N+2)\n",
    "    x = np.cos(np.pi*a+1/(8*N*N*np.tan(a)))\n",
    "    \n",
    "    # Find roots using Newton's method\n",
    "    epsilon = 1e-15\n",
    "    delta = 1.0\n",
    "    while delta>epsilon:\n",
    "        p0 = np.ones(N, float)\n",
    "        p1 = np.copy(x)\n",
    "        for k in range(1,N):\n",
    "            p0, p1 = p1, ((2*k+1)*x*p1-k*p0)/(k+1)\n",
    "        dp = (N+1)*(p0-x*p1)/(1-x*x)\n",
    "        dx = p1/dp\n",
    "        x -= dx\n",
    "        delta = max(abs(dx))\n",
    "    \n",
    "    #Calculate the weights\n",
    "    w = 2*(N+1)*(N+1)/(N*N*(1-x*x)*dp*dp)\n",
    "    \n",
    "    return x, w"
   ]
  },
  {
   "cell_type": "code",
   "execution_count": 12,
   "metadata": {
    "ExecuteTime": {
     "end_time": "2023-11-08T08:09:25.552576Z",
     "start_time": "2023-11-08T08:09:25.538384Z"
    }
   },
   "outputs": [
    {
     "data": {
      "text/plain": [
       "(array([ 7.74596669e-01, -8.96888137e-17, -7.74596669e-01]),\n",
       " array([0.55555556, 0.88888889, 0.55555556]))"
      ]
     },
     "execution_count": 12,
     "metadata": {},
     "output_type": "execute_result"
    }
   ],
   "source": [
    "gaussxw(f_1, 3)"
   ]
  },
  {
   "cell_type": "markdown",
   "metadata": {},
   "source": [
    "We could see here that the gaussxw() function returns the points and weights in accordance with the function f_1(x). Now, we will fit these sample points over the interval of 0 to 5. These sample points must coincide with the zeroes of the Legendre polynomial.\n",
    "To rescale the values, we must redefine the sample points $x'_{k}$ as:\n",
    "$$x'_{k}=\\frac{1}{2}(b-a)x_{k} + \\frac{1}{2}(b+a)$$\n",
    "Similarly, we rescale the weights $w'_{k}$ within the bounds, which we define as:\n",
    "$$w'_{k} = \\frac{1}{2}(b-a)w_{k}$$"
   ]
  },
  {
   "cell_type": "markdown",
   "metadata": {},
   "source": [
    "Let us define int_gauss() that it takes the function $f$, number of points $N$, lower bound $a$, and upper bound $b$."
   ]
  },
  {
   "cell_type": "code",
   "execution_count": 61,
   "metadata": {},
   "outputs": [],
   "source": [
    "def int_gauss(f, N, a, b):\n",
    "    # We define here the array of sample points and weights.\n",
    "    x,w = gaussxw(f, N)\n",
    "    # We then rescale the sample points and weights.\n",
    "    xp = 0.5*(b-a)*x + 0.5*(b+a)\n",
    "    wp = 0.5*(b-a)*w\n",
    "    s = 0.0\n",
    "    # We iteratively add each of the weighted sample points.\n",
    "    for k in range(N):\n",
    "        s += wp[k]*f(xp[k])\n",
    "    return s"
   ]
  },
  {
   "cell_type": "markdown",
   "metadata": {},
   "source": [
    "When we derive the integral using the Gaussian quadrature, we see that:"
   ]
  },
  {
   "cell_type": "code",
   "execution_count": 62,
   "metadata": {},
   "outputs": [
    {
     "data": {
      "text/plain": [
       "1450.000000000002"
      ]
     },
     "execution_count": 62,
     "metadata": {},
     "output_type": "execute_result"
    }
   ],
   "source": [
    "int_gauss(f_1, 3, 0, 5)"
   ]
  },
  {
   "cell_type": "markdown",
   "metadata": {},
   "source": [
    "Which is very accurate to the theoretical answer by simply using three sample points."
   ]
  },
  {
   "cell_type": "markdown",
   "metadata": {},
   "source": [
    "---\n",
    "### Instructor Notes\n",
    "\n",
    "1. The best way to discuss accuracy is through **actual calculation of the percent error.**\n",
    "\n",
    "---"
   ]
  },
  {
   "cell_type": "markdown",
   "metadata": {
    "id": "HceOjNu-VfN9"
   },
   "source": [
    "### PROBLEM 3\n",
    "\n",
    "**Physics Application: Anharmonic Oscillator**\n",
    "\n",
    "_Refer to Exercise 5.10 of the Newman text._ Consider an anharmonic oscillator with potential $V(x)$ symmetric about $x = 0$. Let us set our anharmonic oscillator going with amplitude $a$. That is, at $t = 0$ we release it from rest at position $x = a$ and it swings back towards the origin. Then at $t = 0$ we have $dx/dt = 0$ and the equation for its total energy becomes $E = V(a)$, i.e., the total energy of the particle is given in terms of the amplitude.\n",
    "\n",
    "When the particle reaches the origin for the first time, it has gone through one quarter of a period of the oscillator. The period $T$ is given by: $$ T = \\sqrt{8m} \\int_0^a \\frac{dx}{\\sqrt{V(a)-V(x)}}. $$\n",
    "\n",
    "1. Suppose the potential is $V(x) = x^4$ and the mass of the particle is $m = 1$. Write a Python function that calculates the period of the oscillator for given amplitude a using Gaussian quadrature with $N = 20$ points. Describe each step clearly and concisely. *(20 pts.)*\n",
    "\n",
    "2. Use your function to make a graph of the period for amplitudes ranging from $a = 0$ to $a = 2$. Describe the behavior you find and explain these results clearly and concisely. *(20 pts.)*"
   ]
  },
  {
   "cell_type": "markdown",
   "metadata": {},
   "source": [
    "I have to define again the integral function that is suited for calculating the period $T$. We see here that period is dependent on amplitude $a$. I have to make sure that the function would separately work on any potential function."
   ]
  },
  {
   "cell_type": "code",
   "execution_count": 63,
   "metadata": {
    "id": "p28JF-OQYock"
   },
   "outputs": [],
   "source": [
    "# We define T as it takes values from the potential V, the upper bound a, and the iterative values of x.\n",
    "def T(V, a, x):\n",
    "    return (8/(V(a)-V(x)))**0.5 \n",
    "\n",
    "# We then define T_integ, which is now dependent on the potential function.\n",
    "def T_integ(V, N, a, amp):\n",
    "    x,w = gaussxw(f_1, N)\n",
    "    xp = 0.5*(amp-a)*x + 0.5*(amp+a)\n",
    "    wp = 0.5*(amp-a)*w\n",
    "    s = 0.0\n",
    "    # Here in the Newton-Cotes part of the function, we then use its dependence on the potential function by creating\n",
    "    # a sample point that can be rescaled in accordance with V, a and sample points x.\n",
    "    for k in range(N):\n",
    "        s += wp[k]*T(V, amp, xp[k])\n",
    "    return s"
   ]
  },
  {
   "cell_type": "code",
   "execution_count": 64,
   "metadata": {},
   "outputs": [],
   "source": [
    "# We then define the potential as x^4.\n",
    "def V(x):\n",
    "    return x**4"
   ]
  },
  {
   "cell_type": "code",
   "execution_count": 65,
   "metadata": {},
   "outputs": [
    {
     "data": {
      "text/plain": [
       "<function matplotlib.pyplot.show(*args, **kw)>"
      ]
     },
     "execution_count": 65,
     "metadata": {},
     "output_type": "execute_result"
    },
    {
     "data": {
      "image/png": "[encoded data removed]",
      "text/plain": [
       "<Figure size 432x288 with 1 Axes>"
      ]
     },
     "metadata": {
      "needs_background": "light"
     },
     "output_type": "display_data"
    }
   ],
   "source": [
    "# We then plot the period as dependent on amplitude. \n",
    "# x_data would define 100 evenly spaced sample points ranging from 0 to 2.\n",
    "# y_data would be T(a) from the a sample points.\n",
    "x_data = []\n",
    "y_data = []\n",
    "\n",
    "x_start=0\n",
    "\n",
    "# We form the amplitude and period data by iteratively appending them to the x_data and y_data list.\n",
    "for i in range(100):\n",
    "    x_start += 0.02\n",
    "    x_data.append(x_start)\n",
    "    y_data.append(T_integ(V, 20, 0, x_start))\n",
    "\n",
    "# We then convert the data, which are inside lists, into a NumPy array.\n",
    "x_data_np = np.array(x_data)\n",
    "y_data_np = np.array(y_data)\n",
    "\n",
    "# We then plot the amplitude data points versus the period data points.\n",
    "plt.plot(x_data_np, y_data_np)\n",
    "plt.title(\"Anharmonic Oscillatior with potential of x^4\")\n",
    "plt.xlabel(\"Amplitude (a)\")\n",
    "plt.ylabel(\"Period T(a)\")\n",
    "plt.show"
   ]
  },
  {
   "cell_type": "markdown",
   "metadata": {},
   "source": [
    "We see here that as the amplitude increases, the period sharply decreases. This is because that the particle's oscillation is dependent on its rest position, $x=a$. As we increase the rest position, we increase the total energy, and thus we see that the particle will rock back and forth faster. Since the energy in such a potential well must be conserved, the angular momentum must be conserved as well. This means that as we proportionally increase the amplitude, the period should proportionally decrease."
   ]
  },
  {
   "cell_type": "markdown",
   "metadata": {},
   "source": [
    "----------------\n",
    "### Instructor Notes\n",
    "\n",
    "We find that the period $T$ decreases with increasing amplitude $a$ and diverges as the amplitude goes to zero. To better understand this, let us plot the potential $V(x) = x^4$:\n"
   ]
  },
  {
   "cell_type": "code",
   "execution_count": 13,
   "metadata": {
    "ExecuteTime": {
     "end_time": "2023-11-08T08:10:59.015413Z",
     "start_time": "2023-11-08T08:10:58.912018Z"
    }
   },
   "outputs": [
    {
     "data": {
      "text/plain": [
       "Text(0.5, 0, 'x')"
      ]
     },
     "execution_count": 13,
     "metadata": {},
     "output_type": "execute_result"
    },
    {
     "data": {
      "image/png": "[encoded data removed]",
      "text/plain": [
       "<Figure size 432x288 with 1 Axes>"
      ]
     },
     "metadata": {
      "needs_background": "light"
     },
     "output_type": "display_data"
    }
   ],
   "source": [
    "import matplotlib.pyplot as plt\n",
    "xx = np.linspace(-2,2)\n",
    "yy = xx**4\n",
    "\n",
    "plt.plot(xx, yy, 'k-')\n",
    "plt.axvline(0., color='k', ls=':')\n",
    "plt.ylabel(\"V(x)\")\n",
    "plt.xlabel(\"x\")"
   ]
  },
  {
   "cell_type": "markdown",
   "metadata": {},
   "source": [
    "We see that the potential is very close to flat near $x=0$ up to $x \\sim 0.5$. Starting at amplitudes smaller than 0.5 results in very slow motion and consequently a large period. We see this reflected in the period plot above, with the curve rising sharply towards $a=0$ starting around $a \\sim 0.5$.\n",
    "\n",
    "---"
   ]
  },
  {
   "cell_type": "markdown",
   "metadata": {},
   "source": [
    "## General Comments\n",
    "1. Find better ways to represent numerical results rather than printing it as it is. Take note of Significant Figures and Scientific Notation to effectively convey numbers in an organized manner. Take note that what you calculated is the relative error, percent (%) error must be multiplied with 100 and has a \"%\". \n",
    "2. Feel free to go above and beyond, add extra plots, especially if it helps explain the Physics of the problem.\n",
    "3. The comments contained on the code hashtags should ideally be short phrases. If it's an entire sentence, place it on a separate markdown cell.\n",
    "4. Good work and I commend your thorough discussion!"
   ]
  },
  {
   "cell_type": "code",
   "execution_count": null,
   "metadata": {},
   "outputs": [],
   "source": []
  }
 ],
 "metadata": {
  "colab": {
   "provenance": []
  },
  "kernelspec": {
   "display_name": "Python 3",
   "language": "python",
   "name": "python3"
  },
  "language_info": {
   "codemirror_mode": {
    "name": "ipython",
    "version": 3
   },
   "file_extension": ".py",
   "mimetype": "text/x-python",
   "name": "python",
   "nbconvert_exporter": "python",
   "pygments_lexer": "ipython3",
   "version": "3.8.3"
  },
  "toc": {
   "base_numbering": 1,
   "nav_menu": {},
   "number_sections": true,
   "sideBar": true,
   "skip_h1_title": false,
   "title_cell": "Table of Contents",
   "title_sidebar": "Contents",
   "toc_cell": false,
   "toc_position": {},
   "toc_section_display": true,
   "toc_window_display": false
  },
  "varInspector": {
   "cols": {
    "lenName": 16,
    "lenType": 16,
    "lenVar": 40
   },
   "kernels_config": {
    "python": {
     "delete_cmd_postfix": "",
     "delete_cmd_prefix": "del ",
     "library": "var_list.py",
     "varRefreshCmd": "print(var_dic_list())"
    },
    "r": {
     "delete_cmd_postfix": ") ",
     "delete_cmd_prefix": "rm(",
     "library": "var_list.r",
     "varRefreshCmd": "cat(var_dic_list()) "
    }
   },
   "types_to_exclude": [
    "module",
    "function",
    "builtin_function_or_method",
    "instance",
    "_Feature"
   ],
   "window_display": false
  }
 },
 "nbformat": 4,
 "nbformat_minor": 1
}
