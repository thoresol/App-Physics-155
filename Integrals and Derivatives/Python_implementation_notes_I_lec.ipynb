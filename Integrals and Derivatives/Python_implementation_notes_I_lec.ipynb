{
 "cells": [
  {
   "cell_type": "markdown",
   "metadata": {},
   "source": [
    "# <center> A random collection of Python implementation notes I </center>\n",
    "\n",
    "Here, we shall learn a random collection of useful **Python** and **Jupyter** tips, tricks and implementation details that I have learned and may not have been tackled in [CP] or [PfCP]. In this part, we shall be concentrating on the Python-side of things. Part II will concern itself with Jupyter and the standard scientific computing library."
   ]
  },
  {
   "cell_type": "markdown",
   "metadata": {},
   "source": [
    "## <center> Dynamic typing and Python protocols </center>\n",
    "\n",
    "To peel away at the mysteries of Python's dynamic typing, one must understand first that Python is an object-oriented programming (OOP) language. The central object (*ba-dum-tss*) of any OOP is the **object**, which has two parts: **fields** and **methods**. Fields are properties which may be read, copied and mutated. These may be integers, strings, or lists of data. These fields are to be manipulated and mutated by a set of instructions, called methods.\n",
    "\n",
    "Python, as a matter of fact, may be the *most* object-oriented language out there. This is because, in Python, there is effectively only one variable type: **objects**. That is...\n",
    "\n",
    "### <center> Everything<sup>(almost)</sup> in Python is an object! </center>\n",
    "\n",
    "Integers, strings and lists in Python are all objects. What you are actually doing when you define an integer, say"
   ]
  },
  {
   "cell_type": "code",
   "execution_count": 5,
   "metadata": {},
   "outputs": [],
   "source": []
  },
  {
   "cell_type": "markdown",
   "metadata": {},
   "source": [
    "... is defining an *object*, with all sorts of properties and functions. Don't believe me? Look!"
   ]
  },
  {
   "cell_type": "code",
   "execution_count": 8,
   "metadata": {},
   "outputs": [
    {
     "name": "stdout",
     "output_type": "stream",
     "text": [
      "2\n",
      "True\n",
      "2.0\n"
     ]
    }
   ],
   "source": []
  },
  {
   "cell_type": "markdown",
   "metadata": {},
   "source": [
    "By define an integer two, we have also defined it's string value, boolean and float, revealed by calling this special functions. But wait a minute... when these functions returns a string or a float... aren't these Python-ic objects as well? Yes."
   ]
  },
  {
   "cell_type": "code",
   "execution_count": 10,
   "metadata": {},
   "outputs": [
    {
     "data": {
      "text/plain": [
       "True"
      ]
     },
     "execution_count": 10,
     "metadata": {},
     "output_type": "execute_result"
    }
   ],
   "source": []
  },
  {
   "cell_type": "markdown",
   "metadata": {},
   "source": [
    "Is this a case of 'Turtles all the way down,' except with objects? Nope! \n",
    "\n",
    "The fields of integers, strings and lists you'd expect from statically-typed programming languages is the purview of your Python interpreter (most likely CPython), and you cannot get at them by any normal means. You can only call functions which, behind the scenes, reads these fields, and spits out a Python object. \n",
    "\n",
    "By the very design philosophy of Python, you as a user are only supposed to ever interact with dynamically-typed Python objects. Of course, Python knows the intent of what you have defined. You can simply check the variable type."
   ]
  },
  {
   "cell_type": "code",
   "execution_count": 11,
   "metadata": {},
   "outputs": [
    {
     "data": {
      "text/plain": [
       "int"
      ]
     },
     "execution_count": 11,
     "metadata": {},
     "output_type": "execute_result"
    }
   ],
   "source": []
  },
  {
   "cell_type": "markdown",
   "metadata": {},
   "source": [
    "Each classic data type (such as strings, integers, floats, and lists) are all Pythonic objects, and within each of those objects are functions defining how they may be added, subtracted or multiplied."
   ]
  },
  {
   "cell_type": "code",
   "execution_count": 13,
   "metadata": {},
   "outputs": [],
   "source": []
  },
  {
   "cell_type": "markdown",
   "metadata": {},
   "source": [
    "These are the functions responsible for figuring out what to do when an integer is multiplied to a string. There is a lot going on behind the scenes when one types and evaluates"
   ]
  },
  {
   "cell_type": "code",
   "execution_count": 14,
   "metadata": {},
   "outputs": [
    {
     "name": "stdout",
     "output_type": "stream",
     "text": [
      "MessageMessage\n"
     ]
    }
   ],
   "source": []
  },
  {
   "cell_type": "markdown",
   "metadata": {},
   "source": [
    "It first gets the multiplier of **a**, and tries to input **string**, as in"
   ]
  },
  {
   "cell_type": "code",
   "execution_count": 15,
   "metadata": {},
   "outputs": [
    {
     "data": {
      "text/plain": [
       "NotImplemented"
      ]
     },
     "execution_count": 15,
     "metadata": {},
     "output_type": "execute_result"
    }
   ],
   "source": []
  },
  {
   "cell_type": "markdown",
   "metadata": {},
   "source": [
    "This exercise reveals an integer object does not know how to multiply strings. However, string objects know. And thus, this is what is kept when one multiplies an integer and a string."
   ]
  },
  {
   "cell_type": "code",
   "execution_count": 16,
   "metadata": {},
   "outputs": [
    {
     "data": {
      "text/plain": [
       "'MessageMessage'"
      ]
     },
     "execution_count": 16,
     "metadata": {},
     "output_type": "execute_result"
    }
   ],
   "source": []
  },
  {
   "cell_type": "markdown",
   "metadata": {},
   "source": [
    "Well, not exactly. What is being called *technically* is string.\\_\\_rmul\\_\\_(a), since (**a** \\* **string**) failed, so it's doing the symmetric operation (**string** * **a**). \n",
    "\n",
    "Anyways, notice that **a** should have a string field, and yet you cannot add **a** and **string** together."
   ]
  },
  {
   "cell_type": "code",
   "execution_count": 19,
   "metadata": {},
   "outputs": [
    {
     "ename": "TypeError",
     "evalue": "unsupported operand type(s) for +: 'int' and 'str'",
     "output_type": "error",
     "traceback": [
      "\u001b[0;31m---------------------------------------------------------------------------\u001b[0m",
      "\u001b[0;31mTypeError\u001b[0m                                 Traceback (most recent call last)",
      "\u001b[0;32m/tmp/ipykernel_7428/2052786909.py\u001b[0m in \u001b[0;36m<module>\u001b[0;34m\u001b[0m\n\u001b[0;32m----> 1\u001b[0;31m \u001b[0ma\u001b[0m \u001b[0;34m+\u001b[0m \u001b[0mstring\u001b[0m\u001b[0;34m\u001b[0m\u001b[0;34m\u001b[0m\u001b[0m\n\u001b[0m",
      "\u001b[0;31mTypeError\u001b[0m: unsupported operand type(s) for +: 'int' and 'str'"
     ]
    }
   ],
   "source": []
  },
  {
   "cell_type": "markdown",
   "metadata": {},
   "source": [
    "It is in this sense that Python is said to be a **strongly typed language**. That is, although it should in principle be able to add **a** and **string** together to yield a string '2Message', Python refuses to do such a thing and raises an error.\n",
    "\n",
    "This is, again, one of the many design choices made by the developers of Python. When ints and strings multiply, Python assumes that you know what you are doing. When they add, Python assumes that something has gone wrong, and so raises an error. You'd need to go through the trouble of converting the integer into a string first if it is your desire to get the string '2Message'"
   ]
  },
  {
   "cell_type": "code",
   "execution_count": 22,
   "metadata": {},
   "outputs": [
    {
     "data": {
      "text/plain": [
       "'2Message'"
      ]
     },
     "execution_count": 22,
     "metadata": {},
     "output_type": "execute_result"
    }
   ],
   "source": []
  },
  {
   "cell_type": "markdown",
   "metadata": {},
   "source": [
    "A lot of unintuitive things may arise when two different variable types collide. Consider,"
   ]
  },
  {
   "cell_type": "code",
   "execution_count": 23,
   "metadata": {},
   "outputs": [
    {
     "name": "stdout",
     "output_type": "stream",
     "text": [
      "0\n",
      "2\n"
     ]
    }
   ],
   "source": []
  },
  {
   "cell_type": "markdown",
   "metadata": {},
   "source": [
    "One may roughly understand the above as the following. The field of a **False** boolean Python object under integers is 0, whereas the field of a **True** boolean Pythonic object under integers is 1."
   ]
  },
  {
   "cell_type": "code",
   "execution_count": 25,
   "metadata": {},
   "outputs": [
    {
     "data": {
      "text/plain": [
       "1"
      ]
     },
     "execution_count": 25,
     "metadata": {},
     "output_type": "execute_result"
    }
   ],
   "source": []
  },
  {
   "cell_type": "markdown",
   "metadata": {},
   "source": [
    "Thus, when Python tries to parse the above operations, what it eventually sees when it does all the checking and cross checking of variable types and operations is the basic integer multiplication of 0 * 2 and 1 * 2. This is also why the following occurs:"
   ]
  },
  {
   "cell_type": "code",
   "execution_count": 29,
   "metadata": {},
   "outputs": [
    {
     "name": "stdout",
     "output_type": "stream",
     "text": [
      "Input zero: 0\n",
      "False\n"
     ]
    }
   ],
   "source": []
  },
  {
   "cell_type": "markdown",
   "metadata": {},
   "source": [
    "The **if** function expects a boolean. So it peeks under the hood, checks the boolean field of the object inputted, and evaluates. We can just check how these are implemented behind the scenes."
   ]
  },
  {
   "cell_type": "code",
   "execution_count": 30,
   "metadata": {
    "scrolled": false
   },
   "outputs": [
    {
     "data": {
      "text/plain": [
       "False"
      ]
     },
     "execution_count": 30,
     "metadata": {},
     "output_type": "execute_result"
    }
   ],
   "source": []
  },
  {
   "cell_type": "markdown",
   "metadata": {},
   "source": [
    "As a final note, notice that the functions we had called here are all surrounded with double underscores. These are called **Python protocols**. The ones we've discussed here are *numeric emulation*-type Python protocols, which are called whenever binary (takes two inputs) arithmetic operations like + or - are used.\n",
    "\n",
    "For example, \\_\\_mul\\_\\_() gets called whenever an operation has a * in it. It is in this manner that you can define operations of more complicated objects.\n",
    "\n",
    "This is also why you can add numpy lists together and multiply scalar values to them, in the way you expect vectors to behave."
   ]
  },
  {
   "cell_type": "code",
   "execution_count": 16,
   "metadata": {},
   "outputs": [
    {
     "data": {
      "text/plain": [
       "2"
      ]
     },
     "execution_count": 16,
     "metadata": {},
     "output_type": "execute_result"
    }
   ],
   "source": []
  },
  {
   "cell_type": "code",
   "execution_count": 32,
   "metadata": {},
   "outputs": [
    {
     "name": "stdout",
     "output_type": "stream",
     "text": [
      "[0.         0.00600601 0.01201201 0.01801802 0.02402402 0.03003003\n",
      " 0.03603604 0.04204204 0.04804805 0.05405405 0.06006006 0.06606607\n",
      " 0.07207207 0.07807808 0.08408408 0.09009009 0.0960961  0.1021021\n",
      " 0.10810811 0.11411411 0.12012012 0.12612613 0.13213213 0.13813814\n",
      " 0.14414414 0.15015015 0.15615616 0.16216216 0.16816817 0.17417417\n",
      " 0.18018018 0.18618619 0.19219219 0.1981982  0.2042042  0.21021021\n",
      " 0.21621622 0.22222222 0.22822823 0.23423423 0.24024024 0.24624625\n",
      " 0.25225225 0.25825826 0.26426426 0.27027027 0.27627628 0.28228228\n",
      " 0.28828829 0.29429429 0.3003003  0.30630631 0.31231231 0.31831832\n",
      " 0.32432432 0.33033033 0.33633634 0.34234234 0.34834835 0.35435435\n",
      " 0.36036036 0.36636637 0.37237237 0.37837838 0.38438438 0.39039039\n",
      " 0.3963964  0.4024024  0.40840841 0.41441441 0.42042042 0.42642643\n",
      " 0.43243243 0.43843844 0.44444444 0.45045045 0.45645646 0.46246246\n",
      " 0.46846847 0.47447447 0.48048048 0.48648649 0.49249249 0.4984985\n",
      " 0.5045045  0.51051051 0.51651652 0.52252252 0.52852853 0.53453453\n",
      " 0.54054054 0.54654655 0.55255255 0.55855856 0.56456456 0.57057057\n",
      " 0.57657658 0.58258258 0.58858859 0.59459459 0.6006006  0.60660661\n",
      " 0.61261261 0.61861862 0.62462462 0.63063063 0.63663664 0.64264264\n",
      " 0.64864865 0.65465465 0.66066066 0.66666667 0.67267267 0.67867868\n",
      " 0.68468468 0.69069069 0.6966967  0.7027027  0.70870871 0.71471471\n",
      " 0.72072072 0.72672673 0.73273273 0.73873874 0.74474474 0.75075075\n",
      " 0.75675676 0.76276276 0.76876877 0.77477477 0.78078078 0.78678679\n",
      " 0.79279279 0.7987988  0.8048048  0.81081081 0.81681682 0.82282282\n",
      " 0.82882883 0.83483483 0.84084084 0.84684685 0.85285285 0.85885886\n",
      " 0.86486486 0.87087087 0.87687688 0.88288288 0.88888889 0.89489489\n",
      " 0.9009009  0.90690691 0.91291291 0.91891892 0.92492492 0.93093093\n",
      " 0.93693694 0.94294294 0.94894895 0.95495495 0.96096096 0.96696697\n",
      " 0.97297297 0.97897898 0.98498498 0.99099099 0.996997   1.003003\n",
      " 1.00900901 1.01501502 1.02102102 1.02702703 1.03303303 1.03903904\n",
      " 1.04504505 1.05105105 1.05705706 1.06306306 1.06906907 1.07507508\n",
      " 1.08108108 1.08708709 1.09309309 1.0990991  1.10510511 1.11111111\n",
      " 1.11711712 1.12312312 1.12912913 1.13513514 1.14114114 1.14714715\n",
      " 1.15315315 1.15915916 1.16516517 1.17117117 1.17717718 1.18318318\n",
      " 1.18918919 1.1951952  1.2012012  1.20720721 1.21321321 1.21921922\n",
      " 1.22522523 1.23123123 1.23723724 1.24324324 1.24924925 1.25525526\n",
      " 1.26126126 1.26726727 1.27327327 1.27927928 1.28528529 1.29129129\n",
      " 1.2972973  1.3033033  1.30930931 1.31531532 1.32132132 1.32732733\n",
      " 1.33333333 1.33933934 1.34534535 1.35135135 1.35735736 1.36336336\n",
      " 1.36936937 1.37537538 1.38138138 1.38738739 1.39339339 1.3993994\n",
      " 1.40540541 1.41141141 1.41741742 1.42342342 1.42942943 1.43543544\n",
      " 1.44144144 1.44744745 1.45345345 1.45945946 1.46546547 1.47147147\n",
      " 1.47747748 1.48348348 1.48948949 1.4954955  1.5015015  1.50750751\n",
      " 1.51351351 1.51951952 1.52552553 1.53153153 1.53753754 1.54354354\n",
      " 1.54954955 1.55555556 1.56156156 1.56756757 1.57357357 1.57957958\n",
      " 1.58558559 1.59159159 1.5975976  1.6036036  1.60960961 1.61561562\n",
      " 1.62162162 1.62762763 1.63363363 1.63963964 1.64564565 1.65165165\n",
      " 1.65765766 1.66366366 1.66966967 1.67567568 1.68168168 1.68768769\n",
      " 1.69369369 1.6996997  1.70570571 1.71171171 1.71771772 1.72372372\n",
      " 1.72972973 1.73573574 1.74174174 1.74774775 1.75375375 1.75975976\n",
      " 1.76576577 1.77177177 1.77777778 1.78378378 1.78978979 1.7957958\n",
      " 1.8018018  1.80780781 1.81381381 1.81981982 1.82582583 1.83183183\n",
      " 1.83783784 1.84384384 1.84984985 1.85585586 1.86186186 1.86786787\n",
      " 1.87387387 1.87987988 1.88588589 1.89189189 1.8978979  1.9039039\n",
      " 1.90990991 1.91591592 1.92192192 1.92792793 1.93393393 1.93993994\n",
      " 1.94594595 1.95195195 1.95795796 1.96396396 1.96996997 1.97597598\n",
      " 1.98198198 1.98798799 1.99399399 2.         2.00600601 2.01201201\n",
      " 2.01801802 2.02402402 2.03003003 2.03603604 2.04204204 2.04804805\n",
      " 2.05405405 2.06006006 2.06606607 2.07207207 2.07807808 2.08408408\n",
      " 2.09009009 2.0960961  2.1021021  2.10810811 2.11411411 2.12012012\n",
      " 2.12612613 2.13213213 2.13813814 2.14414414 2.15015015 2.15615616\n",
      " 2.16216216 2.16816817 2.17417417 2.18018018 2.18618619 2.19219219\n",
      " 2.1981982  2.2042042  2.21021021 2.21621622 2.22222222 2.22822823\n",
      " 2.23423423 2.24024024 2.24624625 2.25225225 2.25825826 2.26426426\n",
      " 2.27027027 2.27627628 2.28228228 2.28828829 2.29429429 2.3003003\n",
      " 2.30630631 2.31231231 2.31831832 2.32432432 2.33033033 2.33633634\n",
      " 2.34234234 2.34834835 2.35435435 2.36036036 2.36636637 2.37237237\n",
      " 2.37837838 2.38438438 2.39039039 2.3963964  2.4024024  2.40840841\n",
      " 2.41441441 2.42042042 2.42642643 2.43243243 2.43843844 2.44444444\n",
      " 2.45045045 2.45645646 2.46246246 2.46846847 2.47447447 2.48048048\n",
      " 2.48648649 2.49249249 2.4984985  2.5045045  2.51051051 2.51651652\n",
      " 2.52252252 2.52852853 2.53453453 2.54054054 2.54654655 2.55255255\n",
      " 2.55855856 2.56456456 2.57057057 2.57657658 2.58258258 2.58858859\n",
      " 2.59459459 2.6006006  2.60660661 2.61261261 2.61861862 2.62462462\n",
      " 2.63063063 2.63663664 2.64264264 2.64864865 2.65465465 2.66066066\n",
      " 2.66666667 2.67267267 2.67867868 2.68468468 2.69069069 2.6966967\n",
      " 2.7027027  2.70870871 2.71471471 2.72072072 2.72672673 2.73273273\n",
      " 2.73873874 2.74474474 2.75075075 2.75675676 2.76276276 2.76876877\n",
      " 2.77477477 2.78078078 2.78678679 2.79279279 2.7987988  2.8048048\n",
      " 2.81081081 2.81681682 2.82282282 2.82882883 2.83483483 2.84084084\n",
      " 2.84684685 2.85285285 2.85885886 2.86486486 2.87087087 2.87687688\n",
      " 2.88288288 2.88888889 2.89489489 2.9009009  2.90690691 2.91291291\n",
      " 2.91891892 2.92492492 2.93093093 2.93693694 2.94294294 2.94894895\n",
      " 2.95495495 2.96096096 2.96696697 2.97297297 2.97897898 2.98498498\n",
      " 2.99099099 2.996997   3.003003   3.00900901 3.01501502 3.02102102\n",
      " 3.02702703 3.03303303 3.03903904 3.04504505 3.05105105 3.05705706\n",
      " 3.06306306 3.06906907 3.07507508 3.08108108 3.08708709 3.09309309\n",
      " 3.0990991  3.10510511 3.11111111 3.11711712 3.12312312 3.12912913\n",
      " 3.13513514 3.14114114 3.14714715 3.15315315 3.15915916 3.16516517\n",
      " 3.17117117 3.17717718 3.18318318 3.18918919 3.1951952  3.2012012\n",
      " 3.20720721 3.21321321 3.21921922 3.22522523 3.23123123 3.23723724\n",
      " 3.24324324 3.24924925 3.25525526 3.26126126 3.26726727 3.27327327\n",
      " 3.27927928 3.28528529 3.29129129 3.2972973  3.3033033  3.30930931\n",
      " 3.31531532 3.32132132 3.32732733 3.33333333 3.33933934 3.34534535\n",
      " 3.35135135 3.35735736 3.36336336 3.36936937 3.37537538 3.38138138\n",
      " 3.38738739 3.39339339 3.3993994  3.40540541 3.41141141 3.41741742\n",
      " 3.42342342 3.42942943 3.43543544 3.44144144 3.44744745 3.45345345\n",
      " 3.45945946 3.46546547 3.47147147 3.47747748 3.48348348 3.48948949\n",
      " 3.4954955  3.5015015  3.50750751 3.51351351 3.51951952 3.52552553\n",
      " 3.53153153 3.53753754 3.54354354 3.54954955 3.55555556 3.56156156\n",
      " 3.56756757 3.57357357 3.57957958 3.58558559 3.59159159 3.5975976\n",
      " 3.6036036  3.60960961 3.61561562 3.62162162 3.62762763 3.63363363\n",
      " 3.63963964 3.64564565 3.65165165 3.65765766 3.66366366 3.66966967\n",
      " 3.67567568 3.68168168 3.68768769 3.69369369 3.6996997  3.70570571\n",
      " 3.71171171 3.71771772 3.72372372 3.72972973 3.73573574 3.74174174\n",
      " 3.74774775 3.75375375 3.75975976 3.76576577 3.77177177 3.77777778\n",
      " 3.78378378 3.78978979 3.7957958  3.8018018  3.80780781 3.81381381\n",
      " 3.81981982 3.82582583 3.83183183 3.83783784 3.84384384 3.84984985\n",
      " 3.85585586 3.86186186 3.86786787 3.87387387 3.87987988 3.88588589\n",
      " 3.89189189 3.8978979  3.9039039  3.90990991 3.91591592 3.92192192\n",
      " 3.92792793 3.93393393 3.93993994 3.94594595 3.95195195 3.95795796\n",
      " 3.96396396 3.96996997 3.97597598 3.98198198 3.98798799 3.99399399\n",
      " 4.         4.00600601 4.01201201 4.01801802 4.02402402 4.03003003\n",
      " 4.03603604 4.04204204 4.04804805 4.05405405 4.06006006 4.06606607\n",
      " 4.07207207 4.07807808 4.08408408 4.09009009 4.0960961  4.1021021\n",
      " 4.10810811 4.11411411 4.12012012 4.12612613 4.13213213 4.13813814\n",
      " 4.14414414 4.15015015 4.15615616 4.16216216 4.16816817 4.17417417\n",
      " 4.18018018 4.18618619 4.19219219 4.1981982  4.2042042  4.21021021\n",
      " 4.21621622 4.22222222 4.22822823 4.23423423 4.24024024 4.24624625\n",
      " 4.25225225 4.25825826 4.26426426 4.27027027 4.27627628 4.28228228\n",
      " 4.28828829 4.29429429 4.3003003  4.30630631 4.31231231 4.31831832\n",
      " 4.32432432 4.33033033 4.33633634 4.34234234 4.34834835 4.35435435\n",
      " 4.36036036 4.36636637 4.37237237 4.37837838 4.38438438 4.39039039\n",
      " 4.3963964  4.4024024  4.40840841 4.41441441 4.42042042 4.42642643\n",
      " 4.43243243 4.43843844 4.44444444 4.45045045 4.45645646 4.46246246\n",
      " 4.46846847 4.47447447 4.48048048 4.48648649 4.49249249 4.4984985\n",
      " 4.5045045  4.51051051 4.51651652 4.52252252 4.52852853 4.53453453\n",
      " 4.54054054 4.54654655 4.55255255 4.55855856 4.56456456 4.57057057\n",
      " 4.57657658 4.58258258 4.58858859 4.59459459 4.6006006  4.60660661\n",
      " 4.61261261 4.61861862 4.62462462 4.63063063 4.63663664 4.64264264\n",
      " 4.64864865 4.65465465 4.66066066 4.66666667 4.67267267 4.67867868\n",
      " 4.68468468 4.69069069 4.6966967  4.7027027  4.70870871 4.71471471\n",
      " 4.72072072 4.72672673 4.73273273 4.73873874 4.74474474 4.75075075\n",
      " 4.75675676 4.76276276 4.76876877 4.77477477 4.78078078 4.78678679\n",
      " 4.79279279 4.7987988  4.8048048  4.81081081 4.81681682 4.82282282\n",
      " 4.82882883 4.83483483 4.84084084 4.84684685 4.85285285 4.85885886\n",
      " 4.86486486 4.87087087 4.87687688 4.88288288 4.88888889 4.89489489\n",
      " 4.9009009  4.90690691 4.91291291 4.91891892 4.92492492 4.93093093\n",
      " 4.93693694 4.94294294 4.94894895 4.95495495 4.96096096 4.96696697\n",
      " 4.97297297 4.97897898 4.98498498 4.99099099 4.996997   5.003003\n",
      " 5.00900901 5.01501502 5.02102102 5.02702703 5.03303303 5.03903904\n",
      " 5.04504505 5.05105105 5.05705706 5.06306306 5.06906907 5.07507508\n",
      " 5.08108108 5.08708709 5.09309309 5.0990991  5.10510511 5.11111111\n",
      " 5.11711712 5.12312312 5.12912913 5.13513514 5.14114114 5.14714715\n",
      " 5.15315315 5.15915916 5.16516517 5.17117117 5.17717718 5.18318318\n",
      " 5.18918919 5.1951952  5.2012012  5.20720721 5.21321321 5.21921922\n",
      " 5.22522523 5.23123123 5.23723724 5.24324324 5.24924925 5.25525526\n",
      " 5.26126126 5.26726727 5.27327327 5.27927928 5.28528529 5.29129129\n",
      " 5.2972973  5.3033033  5.30930931 5.31531532 5.32132132 5.32732733\n",
      " 5.33333333 5.33933934 5.34534535 5.35135135 5.35735736 5.36336336\n",
      " 5.36936937 5.37537538 5.38138138 5.38738739 5.39339339 5.3993994\n",
      " 5.40540541 5.41141141 5.41741742 5.42342342 5.42942943 5.43543544\n",
      " 5.44144144 5.44744745 5.45345345 5.45945946 5.46546547 5.47147147\n",
      " 5.47747748 5.48348348 5.48948949 5.4954955  5.5015015  5.50750751\n",
      " 5.51351351 5.51951952 5.52552553 5.53153153 5.53753754 5.54354354\n",
      " 5.54954955 5.55555556 5.56156156 5.56756757 5.57357357 5.57957958\n",
      " 5.58558559 5.59159159 5.5975976  5.6036036  5.60960961 5.61561562\n",
      " 5.62162162 5.62762763 5.63363363 5.63963964 5.64564565 5.65165165\n",
      " 5.65765766 5.66366366 5.66966967 5.67567568 5.68168168 5.68768769\n",
      " 5.69369369 5.6996997  5.70570571 5.71171171 5.71771772 5.72372372\n",
      " 5.72972973 5.73573574 5.74174174 5.74774775 5.75375375 5.75975976\n",
      " 5.76576577 5.77177177 5.77777778 5.78378378 5.78978979 5.7957958\n",
      " 5.8018018  5.80780781 5.81381381 5.81981982 5.82582583 5.83183183\n",
      " 5.83783784 5.84384384 5.84984985 5.85585586 5.86186186 5.86786787\n",
      " 5.87387387 5.87987988 5.88588589 5.89189189 5.8978979  5.9039039\n",
      " 5.90990991 5.91591592 5.92192192 5.92792793 5.93393393 5.93993994\n",
      " 5.94594595 5.95195195 5.95795796 5.96396396 5.96996997 5.97597598\n",
      " 5.98198198 5.98798799 5.99399399 6.        ]\n"
     ]
    }
   ],
   "source": []
  },
  {
   "cell_type": "markdown",
   "metadata": {},
   "source": [
    "These definitions and behaviours are defined for each variable type at C-level. Somewhere in the definition of the numpy array object is it interfacing with the C API of Python. Everytime a user tries to generate one, the Python interpreter reads this C code and creates a Python object with the correct \\_\\_add\\_\\_() and \\_\\_mul\\_\\_() Python protocols."
   ]
  },
  {
   "cell_type": "code",
   "execution_count": 34,
   "metadata": {},
   "outputs": [
    {
     "data": {
      "text/plain": [
       "<method-wrapper '__mul__' of numpy.ndarray object at 0x7f66d1c95cf0>"
      ]
     },
     "execution_count": 34,
     "metadata": {},
     "output_type": "execute_result"
    }
   ],
   "source": []
  },
  {
   "cell_type": "markdown",
   "metadata": {},
   "source": [
    "This behaviour is distinct to how Python arrays would behave."
   ]
  },
  {
   "cell_type": "code",
   "execution_count": 35,
   "metadata": {},
   "outputs": [
    {
     "data": {
      "text/plain": [
       "[1, 2, 3, 4, 5, 6]"
      ]
     },
     "execution_count": 35,
     "metadata": {},
     "output_type": "execute_result"
    }
   ],
   "source": []
  },
  {
   "cell_type": "markdown",
   "metadata": {},
   "source": [
    "Python assumes that with default Python arrays, you are a computer scientist trying to concatenate lists together. With NumPy, they're assuming you're doing numerical work, so it is more natural that they behave more like vectors.\n",
    "\n",
    "This fact (that you can define operations for Python objects) might save you a lot of time and head-ache in the future, especially if you are going to wrap legacy C++ code written 50 years ago with a Python interface lol\n",
    "\n",
    "There are others, related to for example augmented arithmetic assignments (your '+=' operators) and unary operations like taking the negative of a numeric object. Your str() and bool() functions are simply special keywords that call the string Python protocol \\_\\_str\\_\\_() and bool Python protocol \\_\\_bool\\_\\_().\n",
    "\n",
    "You don't need to learn Python's C API to define such behaviours. One can simply \"overload\" (a fancy computer science term for \"overwrite\") these functions by defining objects with these Python protocols."
   ]
  },
  {
   "cell_type": "code",
   "execution_count": 39,
   "metadata": {},
   "outputs": [
    {
     "data": {
      "text/plain": [
       "5"
      ]
     },
     "execution_count": 39,
     "metadata": {},
     "output_type": "execute_result"
    }
   ],
   "source": []
  },
  {
   "cell_type": "markdown",
   "metadata": {},
   "source": [
    "## <center> String formatting </center>\n",
    "\n",
    "Now that we know that everything is an object in Python, we may now discuss built-in methods for these objects which may be particularly useful. One basic function, but may change your Python life, is the **format** function for strings. Consider the following function:"
   ]
  },
  {
   "cell_type": "code",
   "execution_count": null,
   "metadata": {},
   "outputs": [],
   "source": []
  },
  {
   "cell_type": "markdown",
   "metadata": {},
   "source": [
    "Notice that the output of the function is not particularly readable. What is 3? One naive way of dealing with this is the following:"
   ]
  },
  {
   "cell_type": "code",
   "execution_count": null,
   "metadata": {},
   "outputs": [],
   "source": []
  },
  {
   "cell_type": "markdown",
   "metadata": {},
   "source": [
    "Suppose we wish to also say what the first integer is and the second integer is. This naive way is on its way to being incredibly unreadable and unmaintainable."
   ]
  },
  {
   "cell_type": "code",
   "execution_count": null,
   "metadata": {},
   "outputs": [],
   "source": []
  },
  {
   "cell_type": "markdown",
   "metadata": {},
   "source": [
    "Enter the **format** function. The Pythonic idiom is quite simple. One places a pair of empty curly braces, and follow the string with a function call to **format**, and the order of appearance of each curly brace pair corresponds to the appearance of the inputs of the function."
   ]
  },
  {
   "cell_type": "code",
   "execution_count": null,
   "metadata": {},
   "outputs": [],
   "source": []
  },
  {
   "cell_type": "markdown",
   "metadata": {},
   "source": [
    "One may index them, by placing numbers inside the curly braces corresponding to the location of the input inside **format**. This is useful if you wish to reuse the same variable in the same text."
   ]
  },
  {
   "cell_type": "code",
   "execution_count": null,
   "metadata": {},
   "outputs": [],
   "source": []
  },
  {
   "cell_type": "markdown",
   "metadata": {},
   "source": [
    "In fact, just to aid readability one can name these variables inside the curly braces. We can now rearrange the inputs freely, and still have the code readable and working properly!"
   ]
  },
  {
   "cell_type": "code",
   "execution_count": null,
   "metadata": {},
   "outputs": [],
   "source": []
  },
  {
   "cell_type": "markdown",
   "metadata": {},
   "source": [
    "## <center> Assignments and multiple assignments </center>\n",
    "\n",
    "Part of the usefulness of Python is the primacy of readability in its design. One of the key features in Python is how one can unpack, pack and manipulate sets of data intuitively. Consider the following piece of code, which mimicks roughly how one would usually write something in Java or C++."
   ]
  },
  {
   "cell_type": "code",
   "execution_count": null,
   "metadata": {},
   "outputs": [],
   "source": []
  },
  {
   "cell_type": "markdown",
   "metadata": {},
   "source": [
    "There are several features which makes this slightly unreadable. There is the need to find out the length of the list, the definition of a variable that goes through each list index one by one, and only then do we get to the main point of the program, which is to get the sum of the numbers in the list **numbers**. \n",
    "\n",
    "In Python, we can instead use its rich assignment features to just do the following:"
   ]
  },
  {
   "cell_type": "code",
   "execution_count": null,
   "metadata": {},
   "outputs": [],
   "source": []
  },
  {
   "cell_type": "markdown",
   "metadata": {},
   "source": [
    "Here, we immediately know what is going on. We are going to take a **number** from the list **numbers** and then add it to **SUM**. No extra syntax required that are unrelated to this task.\n",
    "\n",
    "Another related assignment feature is multiple assignment. Say you have two variables, and you wish to switch their values around. For other programming langauges, one might do the following:"
   ]
  },
  {
   "cell_type": "code",
   "execution_count": null,
   "metadata": {},
   "outputs": [],
   "source": []
  },
  {
   "cell_type": "markdown",
   "metadata": {},
   "source": [
    "We had to name a third variable, and need to keep in mind where each variable value is going as we are doing the switching. Now imagine doing this for 3 or more variables!\n",
    "\n",
    "Well, we can imagine just that in Python."
   ]
  },
  {
   "cell_type": "code",
   "execution_count": null,
   "metadata": {},
   "outputs": [],
   "source": []
  },
  {
   "cell_type": "markdown",
   "metadata": {},
   "source": [
    "I think you can agree the Python way is much more elegant looking. Not only is this more readable, it's safer **exactly because** it is so readable. We know where each variable is headed to **immediately**. But wait, there's more: this multiple assignment is done at C-speed, so not only is this the better way, it is also the **faster** way. We may use this in a simple fibonacci function."
   ]
  },
  {
   "cell_type": "code",
   "execution_count": null,
   "metadata": {},
   "outputs": [],
   "source": []
  },
  {
   "cell_type": "markdown",
   "metadata": {},
   "source": [
    "This multiple assignment feature also exists in for loops. Consider the following code, where we have used the **zip** functions to stitch the two lists together"
   ]
  },
  {
   "cell_type": "code",
   "execution_count": null,
   "metadata": {},
   "outputs": [],
   "source": []
  },
  {
   "cell_type": "markdown",
   "metadata": {},
   "source": [
    "## <center> On numeric literals </center>\n",
    "\n",
    "Has this ever happened to you? You define an integer that is supposed to be some large number, and then as you code, you immediately forget how large that number is at a glance. Quick! Is the following number 100 million or 10 million? 100000000. \n",
    "\n",
    "Did you take a long time counting the zeros? We usually count commas to get an idea how large a number is! This is why we use delimitters in every day use. For English speakers, it is tradition to split a number every three orders of magnitude. Reading 100,000,000, we immediately know that this number is 100 million and not 10 million. We can do the same thing in Python using underscores."
   ]
  },
  {
   "cell_type": "code",
   "execution_count": null,
   "metadata": {},
   "outputs": [],
   "source": []
  },
  {
   "cell_type": "markdown",
   "metadata": {},
   "source": [
    "Note that the only limitation is that there should be no adjacent underscores. Barring this limitation, we may split the number in any way we want."
   ]
  },
  {
   "cell_type": "code",
   "execution_count": null,
   "metadata": {},
   "outputs": [],
   "source": []
  },
  {
   "cell_type": "markdown",
   "metadata": {},
   "source": [
    "This also works on floating points, although Jupyter might get confused with the coloring."
   ]
  },
  {
   "cell_type": "code",
   "execution_count": null,
   "metadata": {},
   "outputs": [],
   "source": []
  },
  {
   "cell_type": "markdown",
   "metadata": {},
   "source": [
    "## <center> On docstrings </center>\n",
    "\n",
    "Has this ever happened to you? You have defined a function loaded with a long list of variable inputs a few paragraphs ago, and you have forgotten the order at which the inputs must be given? Or maybe you've forgotten what inputs must be supplied in the first place! So you do the dance of scrolling up and down your Jupyter notebook just to figure out the correct way to call a function.\n",
    "\n",
    "A useful shortcut is Shift+Tab, which pulls up the signature (the order and names of the input arguments) and the docstring of a function. Try it out:"
   ]
  },
  {
   "cell_type": "code",
   "execution_count": null,
   "metadata": {},
   "outputs": [],
   "source": []
  },
  {
   "cell_type": "markdown",
   "metadata": {},
   "source": [
    "This is why writing documentation is for your own good. One can future-proof your code by writing a more detailed docstring, which may include\n",
    "\n",
    "1. A short description of your function\n",
    "2. A short description of each input\n",
    "3. A short description of the expected output\n",
    "\n",
    "There are others you can supply, and not all of this may be vital. It depends on the mixture of how much energy you have for banal work and how simple or complicated your project is. For example, we may do something like"
   ]
  },
  {
   "cell_type": "code",
   "execution_count": null,
   "metadata": {},
   "outputs": [],
   "source": []
  },
  {
   "cell_type": "markdown",
   "metadata": {},
   "source": [
    "Of course, this might seem facetious in this code sample. You already know very well the context of a Fibonacci number. But it'll become vital when you work on larger and more complicated projects. Your future self will thank you, for doing some extra work in the present so that they won't have to."
   ]
  },
  {
   "cell_type": "markdown",
   "metadata": {},
   "source": [
    "## <center> For loops vs while loops </center>\n",
    "\n",
    "This entire subsection lifts its material from the following video: https://www.youtube.com/watch?v=Qgevy75co8c\n",
    "\n",
    "It must be stressed that there is a bias against **while** loops in Python, especially if one is just iterating over a certain list of numbers. Consider the following pieces of code, which is doing the same thing"
   ]
  },
  {
   "cell_type": "code",
   "execution_count": null,
   "metadata": {},
   "outputs": [],
   "source": []
  },
  {
   "cell_type": "markdown",
   "metadata": {},
   "source": [
    "We shall time these two functions using a very primitive and inaccurate method, with the **time** module. The time() function in this module gets the current time, so we can roughly measure how long a function took to run by simply calling it before and after and take the difference."
   ]
  },
  {
   "cell_type": "code",
   "execution_count": null,
   "metadata": {},
   "outputs": [],
   "source": []
  },
  {
   "cell_type": "markdown",
   "metadata": {},
   "source": [
    "Notice that **sum_while** always takes around twice as long as **sum_for** loop. This actually makes perfect sense if you know what is going on behind the scenes.\n",
    "\n",
    "The for loop is iterating at C-speed. As it picks out each element and runs through the list of integers, everything is calculated in pristine, statically-typed compiled code, at the express care of your Python interpreter. The while loop, on the other hand, calculates the next integer with a Python-ic object **i**. This comes with it all the usefulness and baggage of a Python variable.\n",
    "\n",
    "Since Python is dynamically typed, Python still needs to check what variable type **i** is, what variable type the number being added to it is (the integer 1). Then it notices there is an addition operation, so it still needs to find out how these two variables (which may have different variable types) may be added together (by calling, as we now know, the proper Python protocol).\n",
    "\n",
    "Of course, we know that **i** and **1** are both integers. But Python doesn't know that! So it needs to do this complicated dance of checking and cross checking just to add two variables. The convenience we get for being able to multiply strings and integers and floating points together comes with it slower run times.\n",
    "\n",
    "The same thing happens with the variable **SUM**. However, notice that **sum_while** goes through two Pythonic arithmetic operations, while **sum_for** only goes through one Pythonic arithmetic operation. We may add an extraneous Pythonic addition just to confirm the intuition that the two pieces of code becomes comparable in speed."
   ]
  },
  {
   "cell_type": "code",
   "execution_count": null,
   "metadata": {},
   "outputs": [],
   "source": []
  },
  {
   "cell_type": "markdown",
   "metadata": {},
   "source": [
    "To test our hypothesis, consider the following piece of code. Notice that the time the slower for function runs is always almost as fast as our original while loop for larger and larger **n**."
   ]
  },
  {
   "cell_type": "code",
   "execution_count": null,
   "metadata": {},
   "outputs": [],
   "source": []
  },
  {
   "cell_type": "markdown",
   "metadata": {},
   "source": [
    "We are on the verge here of discovering what **decorators** are and how they are useful. Notice that in measuring the runtime of a certain function, there is a very routine set of instruction:\n",
    "1. get the time\n",
    "2. run the function\n",
    "3. get the time\n",
    "4. calculate the difference between start and finish\n",
    "\n",
    "There must be an easier way to implement this pattern of instruction, for arbitrary functions... Anyways, I defer this discussion to a later date, since it is more important you get your basics solid first before we can discuss these advance level concerns."
   ]
  }
 ],
 "metadata": {
  "kernelspec": {
   "display_name": "Python 3",
   "language": "python",
   "name": "python3"
  },
  "language_info": {
   "codemirror_mode": {
    "name": "ipython",
    "version": 3
   },
   "file_extension": ".py",
   "mimetype": "text/x-python",
   "name": "python",
   "nbconvert_exporter": "python",
   "pygments_lexer": "ipython3",
   "version": "3.8.3"
  }
 },
 "nbformat": 4,
 "nbformat_minor": 5
}
