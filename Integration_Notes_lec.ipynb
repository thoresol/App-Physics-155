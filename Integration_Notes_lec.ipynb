{
 "cells": [
  {
   "cell_type": "code",
   "execution_count": 2,
   "metadata": {},
   "outputs": [],
   "source": [
    "import numpy as np\n",
    "import matplotlib.pyplot as plt"
   ]
  },
  {
   "cell_type": "markdown",
   "metadata": {},
   "source": [
    "# <center> Notes on Integration </center>\n",
    "\n",
    "In this notes, we shall look at the following:\n",
    "\n",
    "## <center> What does it mean to be correct? </center>\n",
    "\n",
    "Consider the trapezoidal method of integration"
   ]
  },
  {
   "cell_type": "code",
   "execution_count": 3,
   "metadata": {},
   "outputs": [],
   "source": [
    "def integrate_trapezoidal(f, eval_x, **kwargs):\n",
    "    y = f(eval_x, **kwargs)\n",
    "    h = eval_x[1] - eval_x[0]\n",
    "    area = h*(np.sum(y)-0.5*y[0]-0.5*y[-1])\n",
    "    return area"
   ]
  },
  {
   "cell_type": "markdown",
   "metadata": {},
   "source": [
    "How can we determine whether or not the output of our integration method is correct? Say we wish to integrate,\n",
    "\\begin{equation}\n",
    "y = a x^2\n",
    "\\end{equation}"
   ]
  },
  {
   "cell_type": "code",
   "execution_count": 4,
   "metadata": {},
   "outputs": [
    {
     "data": {
      "text/plain": [
       "83.33400267468905"
      ]
     },
     "execution_count": 4,
     "metadata": {},
     "output_type": "execute_result"
    }
   ],
   "source": [
    "def f(x,a):\n",
    "    return a*x**2\n",
    "xmin=-5\n",
    "xmax=5\n",
    "a=1\n",
    "x_res=500\n",
    "x_mesh=np.linspace(xmin, xmax, x_res)\n",
    "integrate_trapezoidal(f, x_mesh, a=1)"
   ]
  },
  {
   "cell_type": "markdown",
   "metadata": {},
   "source": [
    "Of course we are blessed with the knowledge that we already know the exact solution before-hand, which should be\n",
    "\\begin{equation}\n",
    "\\int_{xmin}^{xmax} a x^2 dx =  a \\dfrac{xmax^3 - xmin^3}{3}\n",
    "\\end{equation}\n",
    "which yields\n",
    "\\begin{equation}\n",
    "\\dfrac{250}{3}\n",
    "\\end{equation}\n",
    "\n",
    "So, a naive answer here is that, we should just check. We have the luxury of being able to just cross-check to the exact answer."
   ]
  },
  {
   "cell_type": "code",
   "execution_count": 4,
   "metadata": {},
   "outputs": [
    {
     "data": {
      "text/plain": [
       "83.33333333333333"
      ]
     },
     "execution_count": 4,
     "metadata": {},
     "output_type": "execute_result"
    }
   ],
   "source": []
  },
  {
   "cell_type": "code",
   "execution_count": 5,
   "metadata": {},
   "outputs": [
    {
     "name": "stdout",
     "output_type": "stream",
     "text": [
      "83.33400267468905\n",
      "83.333500333834\n",
      "83.33337504169572\n",
      "83.33333500030132\n"
     ]
    }
   ],
   "source": []
  },
  {
   "cell_type": "markdown",
   "metadata": {},
   "source": [
    "There are two problems with this method. There's a lot of trial and error, and a lot of eyeballing involved! These should be the job of your computer.\n",
    "\n",
    "Second, most of the time, we won't know the exact solution before hand.\n",
    "\n",
    "---\n",
    "\n",
    "The use of exact solutions are important in troubleshooting and prototyping your code. In a controlled environment like this, it's easiest to find out where exactly your code is going wrong. Consider the following function,"
   ]
  },
  {
   "cell_type": "code",
   "execution_count": 9,
   "metadata": {},
   "outputs": [],
   "source": [
    "def intrap_w(f, eval_x, **kwargs):\n",
    "    y = f(eval_x, **kwargs)\n",
    "    h = eval_x[1] - eval_x[0]\n",
    "    area = h*(np.sum(y) -0.5*y[0] - 0.5*y[-1])\n",
    "    return area"
   ]
  },
  {
   "cell_type": "code",
   "execution_count": 10,
   "metadata": {},
   "outputs": [
    {
     "data": {
      "text/plain": [
       "83.33400267468905"
      ]
     },
     "execution_count": 10,
     "metadata": {},
     "output_type": "execute_result"
    }
   ],
   "source": [
    "def f(x,a):\n",
    "    return a*x**2\n",
    "xmin=-5\n",
    "xmax=5\n",
    "a=1\n",
    "x_res=500\n",
    "x_mesh=np.linspace(xmin, xmax, x_res)\n",
    "intrap_w(f, x_mesh, a=1)"
   ]
  },
  {
   "cell_type": "markdown",
   "metadata": {},
   "source": [
    "Can you identify where things have gone wrong? What's interesting to note is that the answer is off from the correct answer by distance of around 25, which suspisciously looks like $5^2$. \n",
    "\n",
    "The error must be related to how we are handling the boundary points! And indeed, if we look at the wrong integration scheme, we have failed to enclose the boundary points inside parenthesis, so they are not scaled down by the step size $h$.\n",
    "\n",
    "---\n",
    "\n",
    "Let us add a wrinkle to our integration problem. Suppose we do not know the function before hand."
   ]
  },
  {
   "cell_type": "code",
   "execution_count": 12,
   "metadata": {},
   "outputs": [],
   "source": [
    "from unknownfuncs import f1"
   ]
  },
  {
   "cell_type": "code",
   "execution_count": 13,
   "metadata": {},
   "outputs": [
    {
     "name": "stdout",
     "output_type": "stream",
     "text": [
      "4.784657420592104\n"
     ]
    }
   ],
   "source": [
    "xmin = -5\n",
    "xmax = 5\n",
    "x_res = 100\n",
    "x_mesh = np.linspace(xmin, xmax, x_res)\n",
    "print(integrate_trapezoidal(f1,x_mesh))"
   ]
  },
  {
   "cell_type": "markdown",
   "metadata": {},
   "source": [
    "Again, the best we can do is to simply compare the outputs of our integration scheme for different mesh sizes. One idea is to refine our mesh to include twice as many points, and then check their difference."
   ]
  },
  {
   "cell_type": "code",
   "execution_count": 14,
   "metadata": {},
   "outputs": [
    {
     "name": "stdout",
     "output_type": "stream",
     "text": [
      "0.002259479369241646\n"
     ]
    }
   ],
   "source": [
    "x_lowresmesh = np.linspace(xmin, xmax, x_res)\n",
    "x_highresmesh = np.linspace(xmin, xmax, 2*x_res)\n",
    "area_lowres = integrate_trapezoidal(f1, x_lowresmesh)\n",
    "area_highres = integrate_trapezoidal(f1, x_highresmesh)\n",
    "print(area_lowres-area_highres)"
   ]
  },
  {
   "cell_type": "markdown",
   "metadata": {},
   "source": [
    "It would seem that the area we calculated using the low resolution mesh is at the very least accurate to the tenths digit. We can, of course, refine our mesh even more"
   ]
  },
  {
   "cell_type": "code",
   "execution_count": 17,
   "metadata": {},
   "outputs": [
    {
     "name": "stdout",
     "output_type": "stream",
     "text": [
      "0.002259479369241646\n",
      "0.0\n"
     ]
    }
   ],
   "source": [
    "x_higherresmesh = np.linspace(xmin, xmax, 2*x_res)\n",
    "area_higherres = integrate_trapezoidal(f1, x_higherresmesh)\n",
    "print(area_lowres-area_higherres)\n",
    "print(area_highres-area_higherres)"
   ]
  },
  {
   "cell_type": "markdown",
   "metadata": {},
   "source": [
    "Since comparing a mesh with quadruple the number of points and double the number of points yields a error that has the same order of magnitude (~10^-3), we can be pretty confident that the low resolution calculation is accurate to the hundredths digit.\n",
    "\n",
    "Maybe we can automate this process.\n",
    "\n",
    "## <center> Adaptive integration </center>\n",
    "\n",
    "Now we wish to do the following: we wish to refine our integration mesh until the different between two adjacent mesh sizes yield a difference below a certain error threshold.\n",
    "\n",
    "Instead of providing a constant mesh, we shall instead give our integrator enough information to construct arbitrarily refined meshes. This basically means we only need to provide it the bounds of our integration, and include a method inside the function to define meshes."
   ]
  },
  {
   "cell_type": "code",
   "execution_count": 23,
   "metadata": {},
   "outputs": [],
   "source": []
  },
  {
   "cell_type": "code",
   "execution_count": 29,
   "metadata": {},
   "outputs": [
    {
     "name": "stdout",
     "output_type": "stream",
     "text": [
      "4.7816598692411\n",
      "4.781659032457059\n",
      "4.781658771024859\n",
      "4.781658754695111\n",
      "4.781658753886653\n",
      "maximum mesh size reached. terminating.\n",
      "None\n",
      "maximum mesh size reached. terminating.\n",
      "None\n"
     ]
    }
   ],
   "source": []
  },
  {
   "cell_type": "markdown",
   "metadata": {},
   "source": [
    "However, there are two things that can go wrong with this method."
   ]
  },
  {
   "cell_type": "code",
   "execution_count": 30,
   "metadata": {},
   "outputs": [],
   "source": []
  },
  {
   "cell_type": "code",
   "execution_count": 31,
   "metadata": {},
   "outputs": [
    {
     "name": "stdout",
     "output_type": "stream",
     "text": [
      "8.335033840084363e+21\n",
      "8.335033840084357e-19\n"
     ]
    }
   ],
   "source": []
  },
  {
   "cell_type": "markdown",
   "metadata": {},
   "source": [
    "What would happen if we tried to use our adaptive integration scheme for the above functions? Implicit in the design of our adaptive integration method is the assumption that we already know before hand the order of magnitude of the answer.\n",
    "\n",
    "We were only providing epsilon with the assumption that the area is of order $10^0$. How do we change our algorithm to adapt to different sizes of the answer?\n",
    "\n",
    "## <center> Absolute and relative errors </center>\n",
    "\n",
    "A rough modification to our problem is that we can give the user a choice to check the error in its absolute magnitude (it's current implementation) and the error in its relative magnitude.|"
   ]
  },
  {
   "cell_type": "code",
   "execution_count": 32,
   "metadata": {},
   "outputs": [],
   "source": []
  },
  {
   "cell_type": "code",
   "execution_count": 34,
   "metadata": {},
   "outputs": [
    {
     "name": "stdout",
     "output_type": "stream",
     "text": [
      "8.333343521772304e+21\n",
      "8.333335878452287e+21\n",
      "8.333333492308706e+21\n",
      "8.33333334326053e+21\n",
      "8.333333335812055e+21\n",
      "8.333333333507957e+21\n",
      "maximum mesh size reached. terminating.\n",
      "None\n"
     ]
    }
   ],
   "source": []
  },
  {
   "cell_type": "code",
   "execution_count": 35,
   "metadata": {},
   "outputs": [
    {
     "name": "stdout",
     "output_type": "stream",
     "text": [
      "8.333343521772303e-19\n",
      "8.333335878452285e-19\n",
      "8.333333492308705e-19\n",
      "8.333333343260529e-19\n",
      "8.333333335812055e-19\n",
      "8.3333333335079535e-19\n",
      "maximum mesh size reached. terminating.\n",
      "None\n"
     ]
    }
   ],
   "source": []
  },
  {
   "cell_type": "markdown",
   "metadata": {},
   "source": [
    "Now it seems a waste to check what error method we use everytime we refine the mesh."
   ]
  },
  {
   "cell_type": "code",
   "execution_count": 43,
   "metadata": {},
   "outputs": [],
   "source": []
  },
  {
   "cell_type": "code",
   "execution_count": 44,
   "metadata": {},
   "outputs": [
    {
     "name": "stdout",
     "output_type": "stream",
     "text": [
      "maximum mesh size reached. terminating.\n",
      "None\n"
     ]
    }
   ],
   "source": []
  },
  {
   "cell_type": "markdown",
   "metadata": {},
   "source": [
    "## <center> A caveat on relative and absolute errors </center>\n",
    "\n",
    "Let us import one last unknown function which may break out method"
   ]
  },
  {
   "cell_type": "code",
   "execution_count": 45,
   "metadata": {},
   "outputs": [],
   "source": []
  },
  {
   "cell_type": "code",
   "execution_count": 47,
   "metadata": {},
   "outputs": [
    {
     "name": "stderr",
     "output_type": "stream",
     "text": [
      "/tmp/ipykernel_9833/3660577264.py:12: RuntimeWarning: divide by zero encountered in double_scalars\n",
      "  if abs(error/area) < epsilon:\n"
     ]
    },
    {
     "name": "stdout",
     "output_type": "stream",
     "text": [
      "9.436953307911289e-16\n",
      "maximum mesh size reached. terminating.\n",
      "None\n",
      "maximum mesh size reached. terminating.\n",
      "None\n",
      "maximum mesh size reached. terminating.\n",
      "None\n",
      "maximum mesh size reached. terminating.\n",
      "None\n"
     ]
    }
   ],
   "source": []
  },
  {
   "cell_type": "markdown",
   "metadata": {},
   "source": [
    "What is this mysterious function that cannot be made to converge?\n",
    "\n",
    "Of course, you are not supposed to know."
   ]
  },
  {
   "cell_type": "code",
   "execution_count": 50,
   "metadata": {},
   "outputs": [
    {
     "data": {
      "text/plain": [
       "-7.123235446216637e-16"
      ]
     },
     "execution_count": 50,
     "metadata": {},
     "output_type": "execute_result"
    }
   ],
   "source": []
  },
  {
   "cell_type": "markdown",
   "metadata": {},
   "source": [
    "What is going on? Well, it seems like our integral is evaluating to zero! That is what is going on.\n",
    "\n",
    "If the integral is zero, then how do we show that numerically? Know that this is a very difficult and subtle problem. When something vanishes, it usually means there's some interesting physics involve. Something is making terms cancel.\n",
    "\n",
    "If you encounter this result in the wild, while doing research, the answer always depends on the problem you are working on. It would usually mean using both analytic and numerical methods to convince other people that what you are getting is actually zero and not some tiny number you cannot resolve with floating points.\n",
    "\n",
    "## <center> Efficiency </center>\n",
    "\n",
    "We note that in refining, we can recycle a lot of our work. Consider integrating on a mesh with points $x = 0, 2, 4$ and $x = 0, 1, 2, 3, 4$. Let $ h = 2$.\n",
    "\n",
    "\\begin{eqnarray}\n",
    "A_1 &=& h \\left( \\dfrac{f(0)}{2} + f(2) + \\dfrac{f(4)}{2} \\right) \\\\\n",
    "A_2 &=& \\dfrac{h}{2} \\left( \\dfrac{f(0)}{2} + f(1) + f(2) + f(3) + \\dfrac{f(4)}{2} \\right)\n",
    "\\end{eqnarray}\n",
    "\n",
    "Notice that\n",
    "\\begin{equation}\n",
    "A_2 = \\dfrac{A_1}{2} + \\dfrac{h}{2} \\left( f(1) + f(3) \\right)\n",
    "\\end{equation}\n",
    "\n",
    "Thus, we may actually recycle our calculation with a lower resolution mesh, and update it by rescaling the original answer and adding terms related to points unique to the higher resolution mesh."
   ]
  },
  {
   "cell_type": "code",
   "execution_count": 53,
   "metadata": {},
   "outputs": [],
   "source": []
  },
  {
   "cell_type": "code",
   "execution_count": 54,
   "metadata": {},
   "outputs": [
    {
     "name": "stdout",
     "output_type": "stream",
     "text": [
      "4.781658757956817\n",
      "4.781658758981339\n"
     ]
    }
   ],
   "source": []
  },
  {
   "cell_type": "code",
   "execution_count": 55,
   "metadata": {},
   "outputs": [
    {
     "name": "stdout",
     "output_type": "stream",
     "text": [
      "16.2 ms ± 661 µs per loop (mean ± std. dev. of 7 runs, 100 loops each)\n"
     ]
    }
   ],
   "source": []
  },
  {
   "cell_type": "code",
   "execution_count": 56,
   "metadata": {},
   "outputs": [
    {
     "name": "stdout",
     "output_type": "stream",
     "text": [
      "CPU times: user 9.89 ms, sys: 3.37 ms, total: 13.3 ms\n",
      "Wall time: 20.6 ms\n"
     ]
    },
    {
     "data": {
      "text/plain": [
       "4.781658758981339"
      ]
     },
     "execution_count": 56,
     "metadata": {},
     "output_type": "execute_result"
    }
   ],
   "source": []
  },
  {
   "cell_type": "markdown",
   "metadata": {},
   "source": [
    "Does this speed up make any sense? Yes!\n",
    "\n",
    "A large part of the calculation slow down rests at the evaluation of the function being integrated at the points. Notice that instead of calculating\n",
    "\n",
    "\\begin{equation}\n",
    "N + 2N + 4N + \\dots 2^k N = N \\left( \\dfrac{1 - 2^k}{1 - 2} \\right) \\approx 2^k N\n",
    "\\end{equation}\n",
    "\n",
    "times, we are evaluating\n",
    "\\begin{equation}\n",
    "N + (N-1) + 2(N-1) + \\dots + 2^{k-1}(N-1) \\approx 2^{k-1} N\n",
    "\\end{equation}\n",
    "\n",
    "times in the better method. So we expect a speed up factor of around 2."
   ]
  },
  {
   "cell_type": "markdown",
   "metadata": {},
   "source": [
    "## <center> Integration using the midpoint rule </center>\n",
    "\n",
    "Given a equally spaced mesh, the midpoint rule uses function evaluations at the midpoints between two successive points.\n",
    "\n",
    "That is, say we start with a mesh with points $x = 0, 2, 4$, then we will instead use the mesh $x = 1, 3$ in integration.\n",
    "\n",
    "\\begin{equation}\n",
    "A = h \\left( f(1) + f(3) \\right), \\qquad h = 2\n",
    "\\end{equation}\n",
    "\n",
    "There are two main advantages of the midpoint rule.\n",
    "1. It is marginally more accurate than the trapezoidal rule.\n",
    "2. It does not evaluate the integrand at the boundaries.\\\n",
    "\n",
    "The second point is crucial. Oftentimes, non-trivial parts of the integrand is found at the boundary points. As we shall see in the next section, we will usually encounter such problems that may only be resolved by an analytic application of L'hopital's rule. Unless you want to teach your integration scheme the basics of algebra and calculus, then it would be ideal if we can simply ignore boundary values as much as possible."
   ]
  },
  {
   "cell_type": "code",
   "execution_count": null,
   "metadata": {},
   "outputs": [],
   "source": []
  },
  {
   "cell_type": "code",
   "execution_count": null,
   "metadata": {},
   "outputs": [],
   "source": []
  },
  {
   "cell_type": "markdown",
   "metadata": {},
   "source": [
    "This puts integrate_trapezoidal and integrate_midpoint on two different levels. Whereas integrate_trapezoidal only does not require the creation of a mesh, integrate_midpoint at its current form does. Let us define the two so that they are more equivalant."
   ]
  },
  {
   "cell_type": "code",
   "execution_count": null,
   "metadata": {},
   "outputs": [],
   "source": []
  },
  {
   "cell_type": "markdown",
   "metadata": {},
   "source": [
    "We may implement a similar thing to get_error_check(), but this time one that selects the proper integration method."
   ]
  },
  {
   "cell_type": "code",
   "execution_count": null,
   "metadata": {},
   "outputs": [],
   "source": []
  }
 ],
 "metadata": {
  "kernelspec": {
   "display_name": "Python 3",
   "language": "python",
   "name": "python3"
  },
  "language_info": {
   "codemirror_mode": {
    "name": "ipython",
    "version": 3
   },
   "file_extension": ".py",
   "mimetype": "text/x-python",
   "name": "python",
   "nbconvert_exporter": "python",
   "pygments_lexer": "ipython3",
   "version": "3.8.3"
  }
 },
 "nbformat": 4,
 "nbformat_minor": 5
}
